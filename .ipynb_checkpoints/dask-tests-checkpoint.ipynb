{
 "cells": [
  {
   "cell_type": "markdown",
   "metadata": {},
   "source": [
    "# Testes com [Dask](https://dask.org/) em Python\n",
    "\n",
    "Python é uma linguagem que une diferentes ferramentas para a ciência de dados, Dask é uma biblioteca em python para auxiliar a análise de grandes volumes de dados.\n",
    "\n",
    "A programação paralela significa dividir o problema em partes separadas e unir as partes no final do processamento, Dask possui a escalabilidade existente no ecossistema python.\n",
    "\n",
    "Os dados são divididos em chunks que podem ser manipulados indenpendentemente em paralelo."
   ]
  },
  {
   "cell_type": "code",
   "execution_count": 3,
   "metadata": {},
   "outputs": [],
   "source": [
    "from dask.distributed import Client\n",
    "client = Client(n_workers = 4)"
   ]
  },
  {
   "cell_type": "code",
   "execution_count": 4,
   "metadata": {},
   "outputs": [],
   "source": [
    "def fibonacci(n):\n",
    "    if n < 3:\n",
    "        return 1\n",
    "    else:\n",
    "        return fibonacci(n - 2) + fibonacci(n - 1)"
   ]
  },
  {
   "cell_type": "code",
   "execution_count": 69,
   "metadata": {},
   "outputs": [],
   "source": [
    "from dask import delayed\n",
    "from time import sleep\n",
    "import time\n",
    "import pandas as pd"
   ]
  },
  {
   "cell_type": "code",
   "execution_count": 60,
   "metadata": {},
   "outputs": [
    {
     "name": "stdout",
     "output_type": "stream",
     "text": [
      "CPU times: user 135 ms, sys: 14.5 ms, total: 150 ms\n",
      "Wall time: 144 ms\n"
     ]
    }
   ],
   "source": [
    "%%time\n",
    "# Serial\n",
    "\n",
    "x = fibonacci(10)\n",
    "y = fibonacci(20)\n",
    "z = fibonacci(30)\n",
    "soma = sum([x, y, z])"
   ]
  },
  {
   "cell_type": "code",
   "execution_count": 62,
   "metadata": {},
   "outputs": [
    {
     "name": "stdout",
     "output_type": "stream",
     "text": [
      "838860\n",
      "CPU times: user 77 µs, sys: 0 ns, total: 77 µs\n",
      "Wall time: 52.2 µs\n"
     ]
    }
   ],
   "source": [
    "%%time\n",
    "print(soma)"
   ]
  },
  {
   "cell_type": "code",
   "execution_count": 64,
   "metadata": {},
   "outputs": [
    {
     "name": "stdout",
     "output_type": "stream",
     "text": [
      "CPU times: user 1.48 ms, sys: 214 µs, total: 1.7 ms\n",
      "Wall time: 1.08 ms\n"
     ]
    }
   ],
   "source": [
    "%%time\n",
    "# Paralelo, construção de um gráfico\n",
    "\n",
    "x = delayed(fibonacci)(10)\n",
    "y = delayed(fibonacci)(20)\n",
    "z = delayed(fibonacci)(30)\n",
    "soma = delayed(sum)([x,y,z])"
   ]
  },
  {
   "cell_type": "code",
   "execution_count": 65,
   "metadata": {},
   "outputs": [
    {
     "name": "stdout",
     "output_type": "stream",
     "text": [
      "CPU times: user 23.9 ms, sys: 4.77 ms, total: 28.7 ms\n",
      "Wall time: 158 ms\n"
     ]
    },
    {
     "data": {
      "text/plain": [
       "838860"
      ]
     },
     "execution_count": 65,
     "metadata": {},
     "output_type": "execute_result"
    }
   ],
   "source": [
    "%%time\n",
    "# União dos dados partidos\n",
    "soma.compute()"
   ]
  },
  {
   "cell_type": "code",
   "execution_count": 66,
   "metadata": {},
   "outputs": [
    {
     "data": {
      "image/png": "[encoded data removed]",
      "text/plain": [
       "<IPython.core.display.Image object>"
      ]
     },
     "execution_count": 66,
     "metadata": {},
     "output_type": "execute_result"
    }
   ],
   "source": [
    "# Visulização dos processos partidos\n",
    "soma.visualize()"
   ]
  },
  {
   "cell_type": "markdown",
   "metadata": {},
   "source": [
    "### [Lei de Amdahl](https://pt.wikipedia.org/wiki/Lei_de_Amdahl)\n",
    "\n",
    "   A lei de Amdahl, também conhecida como argumento de Amdahl, é usada para encontrar a máxima melhora esperada para um sistema em geral quando apenas uma única parte do mesmo é melhorada. Isto é frequentemente usado em computação paralela para prever o máximo speedup teórico usando múltiplos processadores.\n",
    "  O speedup de um programa usando múltiplos processadores em computação paralela é limitado pelo tempo necessário para a fração sequencial de um programa. Por exemplo, se o programa precisa de 20 horas usando um único núcleo de processamento, e a parte específica de um programa que demora uma hora para executar não pode ser paralelizado, enquanto as 19 horas restantes (95%) do tempo da execução pode ser paralelizado, independente de quantos processadores são dedicados a execução paralela deste programa, o tempo de execução mínima não pode ser menor que aquela crítica uma hora. Por isso o aumento de velocidade é limitado em no máximo 20x."
   ]
  },
  {
   "cell_type": "code",
   "execution_count": 73,
   "metadata": {
    "scrolled": true
   },
   "outputs": [
    {
     "name": "stderr",
     "output_type": "stream",
     "text": [
      "distributed.scheduler - ERROR - Couldn't gather keys {'sum-0470d892-7bc0-4685-8029-1fc69aa9020f': []} state: ['waiting'] workers: []\n",
      "NoneType: None\n",
      "distributed.scheduler - ERROR - Workers don't have promised key: [], sum-0470d892-7bc0-4685-8029-1fc69aa9020f\n",
      "NoneType: None\n",
      "distributed.client - WARNING - Couldn't gather 1 keys, rescheduling {'sum-0470d892-7bc0-4685-8029-1fc69aa9020f': ()}\n",
      "distributed.scheduler - ERROR - Couldn't gather keys {'sum-0470d892-7bc0-4685-8029-1fc69aa9020f': []} state: ['waiting'] workers: []\n",
      "NoneType: None\n",
      "distributed.scheduler - ERROR - Workers don't have promised key: [], sum-0470d892-7bc0-4685-8029-1fc69aa9020f\n",
      "NoneType: None\n",
      "distributed.client - WARNING - Couldn't gather 1 keys, rescheduling {'sum-0470d892-7bc0-4685-8029-1fc69aa9020f': ()}\n",
      "distributed.scheduler - ERROR - Couldn't gather keys {'sum-0470d892-7bc0-4685-8029-1fc69aa9020f': []} state: ['waiting'] workers: []\n",
      "NoneType: None\n",
      "distributed.scheduler - ERROR - Workers don't have promised key: [], sum-0470d892-7bc0-4685-8029-1fc69aa9020f\n",
      "NoneType: None\n",
      "distributed.client - WARNING - Couldn't gather 1 keys, rescheduling {'sum-0470d892-7bc0-4685-8029-1fc69aa9020f': ()}\n"
     ]
    },
    {
     "data": {
      "text/html": [
       "<div>\n",
       "<style scoped>\n",
       "    .dataframe tbody tr th:only-of-type {\n",
       "        vertical-align: middle;\n",
       "    }\n",
       "\n",
       "    .dataframe tbody tr th {\n",
       "        vertical-align: top;\n",
       "    }\n",
       "\n",
       "    .dataframe thead th {\n",
       "        text-align: right;\n",
       "    }\n",
       "</style>\n",
       "<table border=\"1\" class=\"dataframe\">\n",
       "  <thead>\n",
       "    <tr style=\"text-align: right;\">\n",
       "      <th></th>\n",
       "      <th>cores</th>\n",
       "      <th>time</th>\n",
       "    </tr>\n",
       "  </thead>\n",
       "  <tbody>\n",
       "    <tr>\n",
       "      <th>0</th>\n",
       "      <td>1</td>\n",
       "      <td>0.161242</td>\n",
       "    </tr>\n",
       "    <tr>\n",
       "      <th>1</th>\n",
       "      <td>1</td>\n",
       "      <td>0.162854</td>\n",
       "    </tr>\n",
       "    <tr>\n",
       "      <th>2</th>\n",
       "      <td>1</td>\n",
       "      <td>0.002760</td>\n",
       "    </tr>\n",
       "    <tr>\n",
       "      <th>3</th>\n",
       "      <td>1</td>\n",
       "      <td>0.159081</td>\n",
       "    </tr>\n",
       "    <tr>\n",
       "      <th>4</th>\n",
       "      <td>1</td>\n",
       "      <td>0.164713</td>\n",
       "    </tr>\n",
       "    <tr>\n",
       "      <th>...</th>\n",
       "      <td>...</td>\n",
       "      <td>...</td>\n",
       "    </tr>\n",
       "    <tr>\n",
       "      <th>75</th>\n",
       "      <td>8</td>\n",
       "      <td>0.160928</td>\n",
       "    </tr>\n",
       "    <tr>\n",
       "      <th>76</th>\n",
       "      <td>8</td>\n",
       "      <td>0.160615</td>\n",
       "    </tr>\n",
       "    <tr>\n",
       "      <th>77</th>\n",
       "      <td>8</td>\n",
       "      <td>0.169284</td>\n",
       "    </tr>\n",
       "    <tr>\n",
       "      <th>78</th>\n",
       "      <td>8</td>\n",
       "      <td>0.162504</td>\n",
       "    </tr>\n",
       "    <tr>\n",
       "      <th>79</th>\n",
       "      <td>8</td>\n",
       "      <td>0.002863</td>\n",
       "    </tr>\n",
       "  </tbody>\n",
       "</table>\n",
       "<p>80 rows × 2 columns</p>\n",
       "</div>"
      ],
      "text/plain": [
       "    cores      time\n",
       "0       1  0.161242\n",
       "1       1  0.162854\n",
       "2       1  0.002760\n",
       "3       1  0.159081\n",
       "4       1  0.164713\n",
       "..    ...       ...\n",
       "75      8  0.160928\n",
       "76      8  0.160615\n",
       "77      8  0.169284\n",
       "78      8  0.162504\n",
       "79      8  0.002863\n",
       "\n",
       "[80 rows x 2 columns]"
      ]
     },
     "execution_count": 73,
     "metadata": {},
     "output_type": "execute_result"
    }
   ],
   "source": [
    "# Criando um processo para o álculo do número de Amdahl\n",
    "soma.compute()\n",
    "exptimes = []\n",
    "\n",
    "for cores in [1,2,4,8]: # Número de cores para a análise\n",
    "    for trials in range(20):\n",
    "        inicio = time.perf_counter()\n",
    "        soma.compute(num_workers = cores)\n",
    "        tempo = time.perf_counter() - inicio\n",
    "        exptimes.append([cores, tempo])\n",
    "        \n",
    "df = pd.DataFrame(exptimes, columns = [\"cores\",\"time\"])\n",
    "df"
   ]
  },
  {
   "cell_type": "code",
   "execution_count": 74,
   "metadata": {},
   "outputs": [
    {
     "data": {
      "text/html": [
       "<div>\n",
       "<style scoped>\n",
       "    .dataframe tbody tr th:only-of-type {\n",
       "        vertical-align: middle;\n",
       "    }\n",
       "\n",
       "    .dataframe tbody tr th {\n",
       "        vertical-align: top;\n",
       "    }\n",
       "\n",
       "    .dataframe thead tr th {\n",
       "        text-align: left;\n",
       "    }\n",
       "\n",
       "    .dataframe thead tr:last-of-type th {\n",
       "        text-align: right;\n",
       "    }\n",
       "</style>\n",
       "<table border=\"1\" class=\"dataframe\">\n",
       "  <thead>\n",
       "    <tr>\n",
       "      <th></th>\n",
       "      <th colspan=\"8\" halign=\"left\">time</th>\n",
       "    </tr>\n",
       "    <tr>\n",
       "      <th></th>\n",
       "      <th>count</th>\n",
       "      <th>mean</th>\n",
       "      <th>std</th>\n",
       "      <th>min</th>\n",
       "      <th>25%</th>\n",
       "      <th>50%</th>\n",
       "      <th>75%</th>\n",
       "      <th>max</th>\n",
       "    </tr>\n",
       "    <tr>\n",
       "      <th>cores</th>\n",
       "      <th></th>\n",
       "      <th></th>\n",
       "      <th></th>\n",
       "      <th></th>\n",
       "      <th></th>\n",
       "      <th></th>\n",
       "      <th></th>\n",
       "      <th></th>\n",
       "    </tr>\n",
       "  </thead>\n",
       "  <tbody>\n",
       "    <tr>\n",
       "      <th>1</th>\n",
       "      <td>20.0</td>\n",
       "      <td>0.106346</td>\n",
       "      <td>0.077942</td>\n",
       "      <td>0.001917</td>\n",
       "      <td>0.002999</td>\n",
       "      <td>0.161271</td>\n",
       "      <td>0.162516</td>\n",
       "      <td>0.166500</td>\n",
       "    </tr>\n",
       "    <tr>\n",
       "      <th>2</th>\n",
       "      <td>20.0</td>\n",
       "      <td>0.122326</td>\n",
       "      <td>0.070659</td>\n",
       "      <td>0.002425</td>\n",
       "      <td>0.115879</td>\n",
       "      <td>0.161617</td>\n",
       "      <td>0.163747</td>\n",
       "      <td>0.167304</td>\n",
       "    </tr>\n",
       "    <tr>\n",
       "      <th>4</th>\n",
       "      <td>20.0</td>\n",
       "      <td>0.105941</td>\n",
       "      <td>0.077551</td>\n",
       "      <td>0.001975</td>\n",
       "      <td>0.003649</td>\n",
       "      <td>0.158652</td>\n",
       "      <td>0.162380</td>\n",
       "      <td>0.166101</td>\n",
       "    </tr>\n",
       "    <tr>\n",
       "      <th>8</th>\n",
       "      <td>20.0</td>\n",
       "      <td>0.149806</td>\n",
       "      <td>0.050572</td>\n",
       "      <td>0.002863</td>\n",
       "      <td>0.160850</td>\n",
       "      <td>0.163988</td>\n",
       "      <td>0.166725</td>\n",
       "      <td>0.192199</td>\n",
       "    </tr>\n",
       "  </tbody>\n",
       "</table>\n",
       "</div>"
      ],
      "text/plain": [
       "       time                                                              \\\n",
       "      count      mean       std       min       25%       50%       75%   \n",
       "cores                                                                     \n",
       "1      20.0  0.106346  0.077942  0.001917  0.002999  0.161271  0.162516   \n",
       "2      20.0  0.122326  0.070659  0.002425  0.115879  0.161617  0.163747   \n",
       "4      20.0  0.105941  0.077551  0.001975  0.003649  0.158652  0.162380   \n",
       "8      20.0  0.149806  0.050572  0.002863  0.160850  0.163988  0.166725   \n",
       "\n",
       "                 \n",
       "            max  \n",
       "cores            \n",
       "1      0.166500  \n",
       "2      0.167304  \n",
       "4      0.166101  \n",
       "8      0.192199  "
      ]
     },
     "execution_count": 74,
     "metadata": {},
     "output_type": "execute_result"
    }
   ],
   "source": [
    "df.groupby('cores').describe()"
   ]
  },
  {
   "cell_type": "code",
   "execution_count": 75,
   "metadata": {},
   "outputs": [
    {
     "data": {
      "text/plain": [
       "<matplotlib.axes._subplots.AxesSubplot at 0x7f45e2d28c10>"
      ]
     },
     "execution_count": 75,
     "metadata": {},
     "output_type": "execute_result"
    },
    {
     "data": {
      "image/png": "[encoded data removed]",
      "text/plain": [
       "<Figure size 432x288 with 1 Axes>"
      ]
     },
     "metadata": {
      "needs_background": "light"
     },
     "output_type": "display_data"
    }
   ],
   "source": [
    "%matplotlib inline\n",
    "df.plot(x = 'cores', y = 'time', kind = 'scatter')"
   ]
  },
  {
   "cell_type": "code",
   "execution_count": 77,
   "metadata": {},
   "outputs": [
    {
     "data": {
      "text/plain": [
       "<matplotlib.axes._subplots.AxesSubplot at 0x7f45dd3e4910>"
      ]
     },
     "execution_count": 77,
     "metadata": {},
     "output_type": "execute_result"
    },
    {
     "data": {
      "image/png": "[encoded data removed]",
      "text/plain": [
       "<Figure size 432x288 with 1 Axes>"
      ]
     },
     "metadata": {
      "needs_background": "light"
     },
     "output_type": "display_data"
    }
   ],
   "source": [
    "# Cálculo do Speedup de um processo\n",
    "media = df.groupby('cores').mean()\n",
    "media['speedup'] = media.loc[1].time / media['time']\n",
    "media.plot(y = 'speedup', kind = 'line')"
   ]
  },
  {
   "cell_type": "code",
   "execution_count": null,
   "metadata": {},
   "outputs": [],
   "source": [
    "media.reset_index(inplace = True)\n",
    "media['efficiency'] = media.loc[0].time / media['time'] / media['cores']\n",
    "media.plot(y = ['efficiency'], kind='line');\n",
    "\n",
    "# this line of code is helpful in converting the index data back into data\n",
    "df.reset_index(inplace = True)"
   ]
  },
  {
   "cell_type": "code",
   "execution_count": null,
   "metadata": {},
   "outputs": [],
   "source": [
    "means['amdahls_number'] = (means.cores/(means.cores-1)) * (1-1/means.speedup)\n",
    "means"
   ]
  },
  {
   "cell_type": "code",
   "execution_count": null,
   "metadata": {},
   "outputs": [],
   "source": [
    "client.close()"
   ]
  }
 ],
 "metadata": {
  "kernelspec": {
   "display_name": "Python 3",
   "language": "python",
   "name": "python3"
  },
  "language_info": {
   "codemirror_mode": {
    "name": "ipython",
    "version": 3
   },
   "file_extension": ".py",
   "mimetype": "text/x-python",
   "name": "python",
   "nbconvert_exporter": "python",
   "pygments_lexer": "ipython3",
   "version": "3.7.6"
  }
 },
 "nbformat": 4,
 "nbformat_minor": 4
}
