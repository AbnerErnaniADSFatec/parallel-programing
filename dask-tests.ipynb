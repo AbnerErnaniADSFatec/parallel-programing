{
 "cells": [
  {
   "cell_type": "markdown",
   "metadata": {},
   "source": [
    "# Testes com [Dask](https://dask.org/) em Python\n",
    "\n",
    "Python é uma linguagem que une diferentes ferramentas para a ciência de dados, Dask é uma biblioteca em python para auxiliar a análise de grandes volumes de dados.\n",
    "\n",
    "A programação paralela significa dividir o problema em partes separadas e unir as partes no final do processamento, Dask possui a escalabilidade existente no ecossistema python.\n",
    "\n",
    "Os dados são divididos em chunks que podem ser manipulados indenpendentemente em paralelo."
   ]
  },
  {
   "cell_type": "code",
   "execution_count": 94,
   "metadata": {},
   "outputs": [],
   "source": [
    "from dask.distributed import Client\n",
    "client = Client(n_workers = 4)"
   ]
  },
  {
   "cell_type": "code",
   "execution_count": 96,
   "metadata": {},
   "outputs": [],
   "source": [
    "def fibonacci(n):\n",
    "    if n < 3:\n",
    "        return 1\n",
    "    else:\n",
    "        return fibonacci(n - 2) + fibonacci(n - 1)"
   ]
  },
  {
   "cell_type": "code",
   "execution_count": 97,
   "metadata": {},
   "outputs": [],
   "source": [
    "from dask import delayed\n",
    "from time import sleep\n",
    "import time\n",
    "import pandas as pd"
   ]
  },
  {
   "cell_type": "code",
   "execution_count": 98,
   "metadata": {},
   "outputs": [
    {
     "name": "stdout",
     "output_type": "stream",
     "text": [
      "CPU times: user 141 ms, sys: 0 ns, total: 141 ms\n",
      "Wall time: 140 ms\n"
     ]
    }
   ],
   "source": [
    "%%time\n",
    "# Serial\n",
    "\n",
    "x = fibonacci(10)\n",
    "y = fibonacci(20)\n",
    "z = fibonacci(30)\n",
    "soma = sum([x, y, z])"
   ]
  },
  {
   "cell_type": "code",
   "execution_count": 99,
   "metadata": {},
   "outputs": [
    {
     "name": "stdout",
     "output_type": "stream",
     "text": [
      "CPU times: user 4 µs, sys: 1 µs, total: 5 µs\n",
      "Wall time: 17.4 µs\n"
     ]
    },
    {
     "data": {
      "text/plain": [
       "838860"
      ]
     },
     "execution_count": 99,
     "metadata": {},
     "output_type": "execute_result"
    }
   ],
   "source": [
    "%%time\n",
    "soma"
   ]
  },
  {
   "cell_type": "code",
   "execution_count": 100,
   "metadata": {},
   "outputs": [
    {
     "name": "stdout",
     "output_type": "stream",
     "text": [
      "CPU times: user 1.24 ms, sys: 0 ns, total: 1.24 ms\n",
      "Wall time: 1.07 ms\n"
     ]
    }
   ],
   "source": [
    "%%time\n",
    "# Paralelo, construção de um gráfico\n",
    "\n",
    "x = delayed(fibonacci)(10)\n",
    "y = delayed(fibonacci)(20)\n",
    "z = delayed(fibonacci)(30)\n",
    "soma = delayed(sum)([x,y,z])"
   ]
  },
  {
   "cell_type": "code",
   "execution_count": 101,
   "metadata": {
    "scrolled": true
   },
   "outputs": [
    {
     "name": "stdout",
     "output_type": "stream",
     "text": [
      "CPU times: user 11 ms, sys: 4.41 ms, total: 15.4 ms\n",
      "Wall time: 149 ms\n"
     ]
    },
    {
     "data": {
      "text/plain": [
       "838860"
      ]
     },
     "execution_count": 101,
     "metadata": {},
     "output_type": "execute_result"
    }
   ],
   "source": [
    "%%time\n",
    "# União dos dados partidos\n",
    "soma.compute()"
   ]
  },
  {
   "cell_type": "code",
   "execution_count": 102,
   "metadata": {
    "scrolled": false
   },
   "outputs": [
    {
     "data": {
      "image/png": "[encoded data removed]",
      "text/plain": [
       "<IPython.core.display.Image object>"
      ]
     },
     "execution_count": 102,
     "metadata": {},
     "output_type": "execute_result"
    }
   ],
   "source": [
    "# Visulização dos processos partidos\n",
    "soma.visualize()"
   ]
  },
  {
   "cell_type": "markdown",
   "metadata": {},
   "source": [
    "## [Lei de Amdahl](https://pt.wikipedia.org/wiki/Lei_de_Amdahl)\n",
    "\n",
    "   A lei de Amdahl, também conhecida como argumento de Amdahl, é usada para encontrar a máxima melhora esperada para um sistema em geral quando apenas uma única parte do mesmo é melhorada. Isto é frequentemente usado em computação paralela para prever o máximo speedup teórico usando múltiplos processadores.\n",
    "  O speedup de um programa usando múltiplos processadores em computação paralela é limitado pelo tempo necessário para a fração sequencial de um programa. Por exemplo, se o programa precisa de 20 horas usando um único núcleo de processamento, e a parte específica de um programa que demora uma hora para executar não pode ser paralelizado, enquanto as 19 horas restantes (95%) do tempo da execução pode ser paralelizado, independente de quantos processadores são dedicados a execução paralela deste programa, o tempo de execução mínima não pode ser menor que aquela crítica uma hora. Por isso o aumento de velocidade é limitado em no máximo 20x."
   ]
  },
  {
   "cell_type": "code",
   "execution_count": 128,
   "metadata": {
    "scrolled": false
   },
   "outputs": [
    {
     "data": {
      "text/html": [
       "<div>\n",
       "<style scoped>\n",
       "    .dataframe tbody tr th:only-of-type {\n",
       "        vertical-align: middle;\n",
       "    }\n",
       "\n",
       "    .dataframe tbody tr th {\n",
       "        vertical-align: top;\n",
       "    }\n",
       "\n",
       "    .dataframe thead th {\n",
       "        text-align: right;\n",
       "    }\n",
       "</style>\n",
       "<table border=\"1\" class=\"dataframe\">\n",
       "  <thead>\n",
       "    <tr style=\"text-align: right;\">\n",
       "      <th></th>\n",
       "      <th>cores</th>\n",
       "      <th>time</th>\n",
       "    </tr>\n",
       "  </thead>\n",
       "  <tbody>\n",
       "    <tr>\n",
       "      <th>0</th>\n",
       "      <td>1</td>\n",
       "      <td>0.012896</td>\n",
       "    </tr>\n",
       "    <tr>\n",
       "      <th>1</th>\n",
       "      <td>1</td>\n",
       "      <td>0.005197</td>\n",
       "    </tr>\n",
       "    <tr>\n",
       "      <th>2</th>\n",
       "      <td>1</td>\n",
       "      <td>0.005242</td>\n",
       "    </tr>\n",
       "    <tr>\n",
       "      <th>3</th>\n",
       "      <td>1</td>\n",
       "      <td>0.002872</td>\n",
       "    </tr>\n",
       "    <tr>\n",
       "      <th>4</th>\n",
       "      <td>1</td>\n",
       "      <td>0.002483</td>\n",
       "    </tr>\n",
       "    <tr>\n",
       "      <th>...</th>\n",
       "      <td>...</td>\n",
       "      <td>...</td>\n",
       "    </tr>\n",
       "    <tr>\n",
       "      <th>75</th>\n",
       "      <td>8</td>\n",
       "      <td>0.013758</td>\n",
       "    </tr>\n",
       "    <tr>\n",
       "      <th>76</th>\n",
       "      <td>8</td>\n",
       "      <td>0.013470</td>\n",
       "    </tr>\n",
       "    <tr>\n",
       "      <th>77</th>\n",
       "      <td>8</td>\n",
       "      <td>0.016135</td>\n",
       "    </tr>\n",
       "    <tr>\n",
       "      <th>78</th>\n",
       "      <td>8</td>\n",
       "      <td>0.011241</td>\n",
       "    </tr>\n",
       "    <tr>\n",
       "      <th>79</th>\n",
       "      <td>8</td>\n",
       "      <td>0.008150</td>\n",
       "    </tr>\n",
       "  </tbody>\n",
       "</table>\n",
       "<p>80 rows × 2 columns</p>\n",
       "</div>"
      ],
      "text/plain": [
       "    cores      time\n",
       "0       1  0.012896\n",
       "1       1  0.005197\n",
       "2       1  0.005242\n",
       "3       1  0.002872\n",
       "4       1  0.002483\n",
       "..    ...       ...\n",
       "75      8  0.013758\n",
       "76      8  0.013470\n",
       "77      8  0.016135\n",
       "78      8  0.011241\n",
       "79      8  0.008150\n",
       "\n",
       "[80 rows x 2 columns]"
      ]
     },
     "execution_count": 128,
     "metadata": {},
     "output_type": "execute_result"
    }
   ],
   "source": [
    "# Criando um processo para o álculo do número de Amdahl\n",
    "soma.compute()\n",
    "exptimes = []\n",
    "\n",
    "for cores in [1,2,4,8]: # Número de cores para a análise\n",
    "    for trials in range(20):\n",
    "        inicio = time.perf_counter()\n",
    "        soma.compute(num_workers = cores)\n",
    "        tempo = time.perf_counter() - inicio\n",
    "        exptimes.append([cores, tempo])\n",
    "        \n",
    "df = pd.DataFrame(exptimes, columns = [\"cores\",\"time\"])\n",
    "df"
   ]
  },
  {
   "cell_type": "code",
   "execution_count": 104,
   "metadata": {},
   "outputs": [
    {
     "data": {
      "text/html": [
       "<div>\n",
       "<style scoped>\n",
       "    .dataframe tbody tr th:only-of-type {\n",
       "        vertical-align: middle;\n",
       "    }\n",
       "\n",
       "    .dataframe tbody tr th {\n",
       "        vertical-align: top;\n",
       "    }\n",
       "\n",
       "    .dataframe thead tr th {\n",
       "        text-align: left;\n",
       "    }\n",
       "\n",
       "    .dataframe thead tr:last-of-type th {\n",
       "        text-align: right;\n",
       "    }\n",
       "</style>\n",
       "<table border=\"1\" class=\"dataframe\">\n",
       "  <thead>\n",
       "    <tr>\n",
       "      <th></th>\n",
       "      <th colspan=\"8\" halign=\"left\">time</th>\n",
       "    </tr>\n",
       "    <tr>\n",
       "      <th></th>\n",
       "      <th>count</th>\n",
       "      <th>mean</th>\n",
       "      <th>std</th>\n",
       "      <th>min</th>\n",
       "      <th>25%</th>\n",
       "      <th>50%</th>\n",
       "      <th>75%</th>\n",
       "      <th>max</th>\n",
       "    </tr>\n",
       "    <tr>\n",
       "      <th>cores</th>\n",
       "      <th></th>\n",
       "      <th></th>\n",
       "      <th></th>\n",
       "      <th></th>\n",
       "      <th></th>\n",
       "      <th></th>\n",
       "      <th></th>\n",
       "      <th></th>\n",
       "    </tr>\n",
       "  </thead>\n",
       "  <tbody>\n",
       "    <tr>\n",
       "      <th>1</th>\n",
       "      <td>20.0</td>\n",
       "      <td>0.105480</td>\n",
       "      <td>0.076969</td>\n",
       "      <td>0.002408</td>\n",
       "      <td>0.004045</td>\n",
       "      <td>0.154983</td>\n",
       "      <td>0.162251</td>\n",
       "      <td>0.171294</td>\n",
       "    </tr>\n",
       "    <tr>\n",
       "      <th>2</th>\n",
       "      <td>20.0</td>\n",
       "      <td>0.111142</td>\n",
       "      <td>0.081401</td>\n",
       "      <td>0.002707</td>\n",
       "      <td>0.004453</td>\n",
       "      <td>0.158842</td>\n",
       "      <td>0.172407</td>\n",
       "      <td>0.191853</td>\n",
       "    </tr>\n",
       "    <tr>\n",
       "      <th>4</th>\n",
       "      <td>20.0</td>\n",
       "      <td>0.110721</td>\n",
       "      <td>0.072796</td>\n",
       "      <td>0.001993</td>\n",
       "      <td>0.003947</td>\n",
       "      <td>0.153418</td>\n",
       "      <td>0.157783</td>\n",
       "      <td>0.179150</td>\n",
       "    </tr>\n",
       "    <tr>\n",
       "      <th>8</th>\n",
       "      <td>20.0</td>\n",
       "      <td>0.108771</td>\n",
       "      <td>0.070759</td>\n",
       "      <td>0.002308</td>\n",
       "      <td>0.005723</td>\n",
       "      <td>0.152489</td>\n",
       "      <td>0.155357</td>\n",
       "      <td>0.158675</td>\n",
       "    </tr>\n",
       "  </tbody>\n",
       "</table>\n",
       "</div>"
      ],
      "text/plain": [
       "       time                                                              \\\n",
       "      count      mean       std       min       25%       50%       75%   \n",
       "cores                                                                     \n",
       "1      20.0  0.105480  0.076969  0.002408  0.004045  0.154983  0.162251   \n",
       "2      20.0  0.111142  0.081401  0.002707  0.004453  0.158842  0.172407   \n",
       "4      20.0  0.110721  0.072796  0.001993  0.003947  0.153418  0.157783   \n",
       "8      20.0  0.108771  0.070759  0.002308  0.005723  0.152489  0.155357   \n",
       "\n",
       "                 \n",
       "            max  \n",
       "cores            \n",
       "1      0.171294  \n",
       "2      0.191853  \n",
       "4      0.179150  \n",
       "8      0.158675  "
      ]
     },
     "execution_count": 104,
     "metadata": {},
     "output_type": "execute_result"
    }
   ],
   "source": [
    "df.groupby('cores').describe()"
   ]
  },
  {
   "cell_type": "code",
   "execution_count": 105,
   "metadata": {},
   "outputs": [
    {
     "data": {
      "text/plain": [
       "<matplotlib.axes._subplots.AxesSubplot at 0x7fa6f84cea50>"
      ]
     },
     "execution_count": 105,
     "metadata": {},
     "output_type": "execute_result"
    },
    {
     "data": {
      "image/png": "[encoded data removed]",
      "text/plain": [
       "<Figure size 432x288 with 1 Axes>"
      ]
     },
     "metadata": {
      "needs_background": "light"
     },
     "output_type": "display_data"
    }
   ],
   "source": [
    "%matplotlib inline\n",
    "df.plot(x = 'cores', y = 'time', kind = 'scatter')"
   ]
  },
  {
   "cell_type": "code",
   "execution_count": 106,
   "metadata": {},
   "outputs": [
    {
     "data": {
      "text/plain": [
       "<matplotlib.axes._subplots.AxesSubplot at 0x7fa6f8409110>"
      ]
     },
     "execution_count": 106,
     "metadata": {},
     "output_type": "execute_result"
    },
    {
     "data": {
      "image/png": "[encoded data removed]",
      "text/plain": [
       "<Figure size 432x288 with 1 Axes>"
      ]
     },
     "metadata": {
      "needs_background": "light"
     },
     "output_type": "display_data"
    }
   ],
   "source": [
    "# Cálculo do Speedup de um processo\n",
    "media = df.groupby('cores').mean()\n",
    "media['speedup'] = media.loc[1].time / media['time']\n",
    "media.plot(y = 'speedup', kind = 'line')"
   ]
  },
  {
   "cell_type": "code",
   "execution_count": 107,
   "metadata": {},
   "outputs": [
    {
     "data": {
      "image/png": "[encoded data removed]",
      "text/plain": [
       "<Figure size 432x288 with 1 Axes>"
      ]
     },
     "metadata": {
      "needs_background": "light"
     },
     "output_type": "display_data"
    }
   ],
   "source": [
    "media.reset_index(inplace = True)\n",
    "media['efficiency'] = media.loc[0].time / media['time'] / media['cores']\n",
    "media.plot(y = ['efficiency'], kind = 'line');\n",
    "# Essa linha é importante para a conversão em dados legíveis\n",
    "df.reset_index(inplace = True)"
   ]
  },
  {
   "cell_type": "code",
   "execution_count": 108,
   "metadata": {},
   "outputs": [
    {
     "data": {
      "text/html": [
       "<div>\n",
       "<style scoped>\n",
       "    .dataframe tbody tr th:only-of-type {\n",
       "        vertical-align: middle;\n",
       "    }\n",
       "\n",
       "    .dataframe tbody tr th {\n",
       "        vertical-align: top;\n",
       "    }\n",
       "\n",
       "    .dataframe thead th {\n",
       "        text-align: right;\n",
       "    }\n",
       "</style>\n",
       "<table border=\"1\" class=\"dataframe\">\n",
       "  <thead>\n",
       "    <tr style=\"text-align: right;\">\n",
       "      <th></th>\n",
       "      <th>cores</th>\n",
       "      <th>time</th>\n",
       "      <th>speedup</th>\n",
       "      <th>efficiency</th>\n",
       "      <th>amdahls_number</th>\n",
       "    </tr>\n",
       "  </thead>\n",
       "  <tbody>\n",
       "    <tr>\n",
       "      <th>0</th>\n",
       "      <td>1</td>\n",
       "      <td>0.105480</td>\n",
       "      <td>1.000000</td>\n",
       "      <td>1.000000</td>\n",
       "      <td>NaN</td>\n",
       "    </tr>\n",
       "    <tr>\n",
       "      <th>1</th>\n",
       "      <td>2</td>\n",
       "      <td>0.111142</td>\n",
       "      <td>0.949062</td>\n",
       "      <td>0.474531</td>\n",
       "      <td>-0.107345</td>\n",
       "    </tr>\n",
       "    <tr>\n",
       "      <th>2</th>\n",
       "      <td>4</td>\n",
       "      <td>0.110721</td>\n",
       "      <td>0.952673</td>\n",
       "      <td>0.238168</td>\n",
       "      <td>-0.066238</td>\n",
       "    </tr>\n",
       "    <tr>\n",
       "      <th>3</th>\n",
       "      <td>8</td>\n",
       "      <td>0.108771</td>\n",
       "      <td>0.969750</td>\n",
       "      <td>0.121219</td>\n",
       "      <td>-0.035650</td>\n",
       "    </tr>\n",
       "  </tbody>\n",
       "</table>\n",
       "</div>"
      ],
      "text/plain": [
       "   cores      time   speedup  efficiency  amdahls_number\n",
       "0      1  0.105480  1.000000    1.000000             NaN\n",
       "1      2  0.111142  0.949062    0.474531       -0.107345\n",
       "2      4  0.110721  0.952673    0.238168       -0.066238\n",
       "3      8  0.108771  0.969750    0.121219       -0.035650"
      ]
     },
     "execution_count": 108,
     "metadata": {},
     "output_type": "execute_result"
    }
   ],
   "source": [
    "media['amdahls_number'] = (media.cores/(media.cores-1)) * (1-1/media.speedup)\n",
    "# Calculando o número de Amdahl\n",
    "media"
   ]
  },
  {
   "cell_type": "markdown",
   "metadata": {},
   "source": [
    "## Teste um pouco mais complexo\n",
    "\n",
    "![this](https://upload.wikimedia.org/wikipedia/commons/e/ee/Binomial_tree.gif)"
   ]
  },
  {
   "cell_type": "code",
   "execution_count": 109,
   "metadata": {},
   "outputs": [],
   "source": [
    "# Redução\n",
    "def partition(lista):\n",
    "    result = []\n",
    "    if len(lista) % 2 == 0:\n",
    "        i, lenght = 0, 2\n",
    "        while lenght <= len(lista):\n",
    "            result.append(lista[i:lenght])\n",
    "            i, lenght = i + 2, lenght + 2\n",
    "        return result\n",
    "    else:\n",
    "        pop = lista.pop()\n",
    "        result = partition(lista)\n",
    "        result.append([pop, 0])\n",
    "        return result\n",
    "\n",
    "def calculator(lista):\n",
    "    soma = []\n",
    "    for par in partition(lista):\n",
    "        soma.append(int(par[0]) + int(par[1]))\n",
    "    return soma        \n",
    "\n",
    "def reduction(lista):\n",
    "    if len(lista) == 1:\n",
    "        return lista[0]\n",
    "    else:\n",
    "        aux = lista\n",
    "        while len(aux) != 1:\n",
    "            aux = calculator(aux)\n",
    "        return aux[0]"
   ]
  },
  {
   "cell_type": "code",
   "execution_count": 110,
   "metadata": {},
   "outputs": [
    {
     "name": "stdout",
     "output_type": "stream",
     "text": [
      "CPU times: user 13 µs, sys: 1 µs, total: 14 µs\n",
      "Wall time: 18.6 µs\n"
     ]
    }
   ],
   "source": [
    "%%time\n",
    "lista = [2,3,5,1,7,6,8,4]\n",
    "result = reduction(lista)"
   ]
  },
  {
   "cell_type": "code",
   "execution_count": 111,
   "metadata": {},
   "outputs": [
    {
     "name": "stdout",
     "output_type": "stream",
     "text": [
      "CPU times: user 4 µs, sys: 0 ns, total: 4 µs\n",
      "Wall time: 9.06 µs\n"
     ]
    },
    {
     "data": {
      "text/plain": [
       "36"
      ]
     },
     "execution_count": 111,
     "metadata": {},
     "output_type": "execute_result"
    }
   ],
   "source": [
    "%%time\n",
    "result"
   ]
  },
  {
   "cell_type": "code",
   "execution_count": 112,
   "metadata": {},
   "outputs": [],
   "source": [
    "# Redução\n",
    "def partition(lista):\n",
    "    result = []\n",
    "    if len(lista) % 2 == 0:\n",
    "        i, lenght = 0, 2\n",
    "        while lenght <= len(lista):\n",
    "            result.append(lista[i:lenght])\n",
    "            i, lenght = i + 2, lenght + 2\n",
    "        return result\n",
    "    else:\n",
    "        pop = lista.pop()\n",
    "        result = delayed(partition)(lista)\n",
    "        result = result.compute()\n",
    "        result.append([pop, 0])\n",
    "        return result\n",
    "\n",
    "def calculator(lista):\n",
    "    soma = []\n",
    "    var = delayed(partition)(lista)\n",
    "    for par in var.compute():\n",
    "        soma.append(int(par[0]) + int(par[1]))\n",
    "    return soma\n",
    "\n",
    "def reduction(lista):\n",
    "    if len(lista) == 1:\n",
    "        return lista[0]\n",
    "    else:\n",
    "        aux = lista\n",
    "        while len(aux) != 1:\n",
    "            calc = delayed(calculator)(aux)\n",
    "            aux = calc.compute()\n",
    "        return aux[0]"
   ]
  },
  {
   "cell_type": "code",
   "execution_count": 113,
   "metadata": {},
   "outputs": [
    {
     "name": "stdout",
     "output_type": "stream",
     "text": [
      "CPU times: user 210 µs, sys: 0 ns, total: 210 µs\n",
      "Wall time: 181 µs\n"
     ]
    }
   ],
   "source": [
    "%%time\n",
    "lista = [2,3,5,1,7,6,8,4]\n",
    "soma = delayed(reduction)(lista)"
   ]
  },
  {
   "cell_type": "code",
   "execution_count": 114,
   "metadata": {},
   "outputs": [
    {
     "name": "stdout",
     "output_type": "stream",
     "text": [
      "CPU times: user 38.5 ms, sys: 3.8 ms, total: 42.3 ms\n",
      "Wall time: 111 ms\n"
     ]
    },
    {
     "data": {
      "text/plain": [
       "36"
      ]
     },
     "execution_count": 114,
     "metadata": {},
     "output_type": "execute_result"
    }
   ],
   "source": [
    "%%time\n",
    "soma.compute()"
   ]
  },
  {
   "cell_type": "code",
   "execution_count": 115,
   "metadata": {
    "scrolled": true
   },
   "outputs": [
    {
     "data": {
      "image/png": "[encoded data removed]",
      "text/plain": [
       "<IPython.core.display.Image object>"
      ]
     },
     "execution_count": 115,
     "metadata": {},
     "output_type": "execute_result"
    }
   ],
   "source": [
    "soma.visualize()"
   ]
  },
  {
   "cell_type": "markdown",
   "metadata": {},
   "source": [
    "## Dask DataFrame\n",
    "\n",
    "Semelhante ao vetores, Dask DataFrames são dados particionados no pandas, separados por Chunks e agregados novamente para a apresentação dos resultados. Possuem as seguintes propriedades:\n",
    "\n",
    "- São dados Tabulares (duas dimensões);\n",
    "- Cada coluna tem um tipo de dado definido pelo esquema;\n",
    "- Queries são parecidas com SQL;\n",
    "- Dados estruturados;"
   ]
  },
  {
   "cell_type": "code",
   "execution_count": 138,
   "metadata": {},
   "outputs": [],
   "source": [
    "import dask.dataframe as dd"
   ]
  },
  {
   "cell_type": "code",
   "execution_count": 139,
   "metadata": {
    "scrolled": true
   },
   "outputs": [
    {
     "data": {
      "text/html": [
       "<div><strong>Dask DataFrame Structure:</strong></div>\n",
       "<div>\n",
       "<style scoped>\n",
       "    .dataframe tbody tr th:only-of-type {\n",
       "        vertical-align: middle;\n",
       "    }\n",
       "\n",
       "    .dataframe tbody tr th {\n",
       "        vertical-align: top;\n",
       "    }\n",
       "\n",
       "    .dataframe thead th {\n",
       "        text-align: right;\n",
       "    }\n",
       "</style>\n",
       "<table border=\"1\" class=\"dataframe\">\n",
       "  <thead>\n",
       "    <tr style=\"text-align: right;\">\n",
       "      <th></th>\n",
       "      <th>fid</th>\n",
       "      <th>execution_date</th>\n",
       "      <th>maxima</th>\n",
       "      <th>media</th>\n",
       "      <th>mes</th>\n",
       "      <th>pid_an_municip_monthly</th>\n",
       "    </tr>\n",
       "    <tr>\n",
       "      <th>npartitions=1</th>\n",
       "      <th></th>\n",
       "      <th></th>\n",
       "      <th></th>\n",
       "      <th></th>\n",
       "      <th></th>\n",
       "      <th></th>\n",
       "    </tr>\n",
       "  </thead>\n",
       "  <tbody>\n",
       "    <tr>\n",
       "      <th></th>\n",
       "      <td>int64</td>\n",
       "      <td>object</td>\n",
       "      <td>float64</td>\n",
       "      <td>float64</td>\n",
       "      <td>object</td>\n",
       "      <td>int64</td>\n",
       "    </tr>\n",
       "    <tr>\n",
       "      <th></th>\n",
       "      <td>...</td>\n",
       "      <td>...</td>\n",
       "      <td>...</td>\n",
       "      <td>...</td>\n",
       "      <td>...</td>\n",
       "      <td>...</td>\n",
       "    </tr>\n",
       "  </tbody>\n",
       "</table>\n",
       "</div>\n",
       "<div>Dask Name: from-delayed, 3 tasks</div>"
      ],
      "text/plain": [
       "Dask DataFrame Structure:\n",
       "                 fid execution_date   maxima    media     mes pid_an_municip_monthly\n",
       "npartitions=1                                                                       \n",
       "               int64         object  float64  float64  object                  int64\n",
       "                 ...            ...      ...      ...     ...                    ...\n",
       "Dask Name: from-delayed, 3 tasks"
      ]
     },
     "execution_count": 139,
     "metadata": {},
     "output_type": "execute_result"
    }
   ],
   "source": [
    "## Lendo os dados climatológicos da cidade de SJC em mm/dia Mensal\n",
    "clim = dd.read_csv('prec4km_clim.csv', delimiter = ';', encoding = 'utf-8')\n",
    "clim"
   ]
  },
  {
   "cell_type": "code",
   "execution_count": 140,
   "metadata": {},
   "outputs": [
    {
     "data": {
      "text/html": [
       "<div>\n",
       "<style scoped>\n",
       "    .dataframe tbody tr th:only-of-type {\n",
       "        vertical-align: middle;\n",
       "    }\n",
       "\n",
       "    .dataframe tbody tr th {\n",
       "        vertical-align: top;\n",
       "    }\n",
       "\n",
       "    .dataframe thead th {\n",
       "        text-align: right;\n",
       "    }\n",
       "</style>\n",
       "<table border=\"1\" class=\"dataframe\">\n",
       "  <thead>\n",
       "    <tr style=\"text-align: right;\">\n",
       "      <th></th>\n",
       "      <th>fid</th>\n",
       "      <th>execution_date</th>\n",
       "      <th>maxima</th>\n",
       "      <th>media</th>\n",
       "      <th>mes</th>\n",
       "      <th>pid_an_municip_monthly</th>\n",
       "    </tr>\n",
       "  </thead>\n",
       "  <tbody>\n",
       "    <tr>\n",
       "      <th>0</th>\n",
       "      <td>5563</td>\n",
       "      <td>2018-01-31 02:00:00.717-02</td>\n",
       "      <td>8.952624</td>\n",
       "      <td>7.936766</td>\n",
       "      <td>Janeiro</td>\n",
       "      <td>1</td>\n",
       "    </tr>\n",
       "    <tr>\n",
       "      <th>1</th>\n",
       "      <td>5562</td>\n",
       "      <td>2018-01-31 02:00:00.717-02</td>\n",
       "      <td>8.271148</td>\n",
       "      <td>6.315904</td>\n",
       "      <td>Janeiro</td>\n",
       "      <td>2</td>\n",
       "    </tr>\n",
       "    <tr>\n",
       "      <th>2</th>\n",
       "      <td>5561</td>\n",
       "      <td>2018-01-31 02:00:00.717-02</td>\n",
       "      <td>NaN</td>\n",
       "      <td>NaN</td>\n",
       "      <td>Janeiro</td>\n",
       "      <td>3</td>\n",
       "    </tr>\n",
       "    <tr>\n",
       "      <th>3</th>\n",
       "      <td>5560</td>\n",
       "      <td>2018-01-31 02:00:00.717-02</td>\n",
       "      <td>2.598334</td>\n",
       "      <td>2.513348</td>\n",
       "      <td>Janeiro</td>\n",
       "      <td>4</td>\n",
       "    </tr>\n",
       "    <tr>\n",
       "      <th>4</th>\n",
       "      <td>5559</td>\n",
       "      <td>2018-01-31 02:00:00.717-02</td>\n",
       "      <td>2.489908</td>\n",
       "      <td>2.365603</td>\n",
       "      <td>Janeiro</td>\n",
       "      <td>5</td>\n",
       "    </tr>\n",
       "    <tr>\n",
       "      <th>...</th>\n",
       "      <td>...</td>\n",
       "      <td>...</td>\n",
       "      <td>...</td>\n",
       "      <td>...</td>\n",
       "      <td>...</td>\n",
       "      <td>...</td>\n",
       "    </tr>\n",
       "    <tr>\n",
       "      <th>66667</th>\n",
       "      <td>2653</td>\n",
       "      <td>2018-12-31 02:00:00-02</td>\n",
       "      <td>7.110368</td>\n",
       "      <td>6.863614</td>\n",
       "      <td>Dezembro</td>\n",
       "      <td>66668</td>\n",
       "    </tr>\n",
       "    <tr>\n",
       "      <th>66668</th>\n",
       "      <td>2654</td>\n",
       "      <td>2018-12-31 02:00:00-02</td>\n",
       "      <td>9.684531</td>\n",
       "      <td>8.779482</td>\n",
       "      <td>Dezembro</td>\n",
       "      <td>66669</td>\n",
       "    </tr>\n",
       "    <tr>\n",
       "      <th>66669</th>\n",
       "      <td>3829</td>\n",
       "      <td>2018-12-31 02:00:00-02</td>\n",
       "      <td>8.460323</td>\n",
       "      <td>8.405025</td>\n",
       "      <td>Dezembro</td>\n",
       "      <td>66670</td>\n",
       "    </tr>\n",
       "    <tr>\n",
       "      <th>66670</th>\n",
       "      <td>2650</td>\n",
       "      <td>2018-12-31 02:00:00-02</td>\n",
       "      <td>7.037047</td>\n",
       "      <td>6.680299</td>\n",
       "      <td>Dezembro</td>\n",
       "      <td>66671</td>\n",
       "    </tr>\n",
       "    <tr>\n",
       "      <th>66671</th>\n",
       "      <td>2651</td>\n",
       "      <td>2018-12-31 02:00:00-02</td>\n",
       "      <td>6.335632</td>\n",
       "      <td>6.211512</td>\n",
       "      <td>Dezembro</td>\n",
       "      <td>66672</td>\n",
       "    </tr>\n",
       "  </tbody>\n",
       "</table>\n",
       "<p>66672 rows × 6 columns</p>\n",
       "</div>"
      ],
      "text/plain": [
       "        fid              execution_date    maxima     media       mes  \\\n",
       "0      5563  2018-01-31 02:00:00.717-02  8.952624  7.936766   Janeiro   \n",
       "1      5562  2018-01-31 02:00:00.717-02  8.271148  6.315904   Janeiro   \n",
       "2      5561  2018-01-31 02:00:00.717-02       NaN       NaN   Janeiro   \n",
       "3      5560  2018-01-31 02:00:00.717-02  2.598334  2.513348   Janeiro   \n",
       "4      5559  2018-01-31 02:00:00.717-02  2.489908  2.365603   Janeiro   \n",
       "...     ...                         ...       ...       ...       ...   \n",
       "66667  2653      2018-12-31 02:00:00-02  7.110368  6.863614  Dezembro   \n",
       "66668  2654      2018-12-31 02:00:00-02  9.684531  8.779482  Dezembro   \n",
       "66669  3829      2018-12-31 02:00:00-02  8.460323  8.405025  Dezembro   \n",
       "66670  2650      2018-12-31 02:00:00-02  7.037047  6.680299  Dezembro   \n",
       "66671  2651      2018-12-31 02:00:00-02  6.335632  6.211512  Dezembro   \n",
       "\n",
       "       pid_an_municip_monthly  \n",
       "0                           1  \n",
       "1                           2  \n",
       "2                           3  \n",
       "3                           4  \n",
       "4                           5  \n",
       "...                       ...  \n",
       "66667                   66668  \n",
       "66668                   66669  \n",
       "66669                   66670  \n",
       "66670                   66671  \n",
       "66671                   66672  \n",
       "\n",
       "[66672 rows x 6 columns]"
      ]
     },
     "execution_count": 140,
     "metadata": {},
     "output_type": "execute_result"
    }
   ],
   "source": [
    "clim.compute()"
   ]
  },
  {
   "cell_type": "code",
   "execution_count": 141,
   "metadata": {},
   "outputs": [
    {
     "data": {
      "text/html": [
       "<div><strong>Dask DataFrame Structure:</strong></div>\n",
       "<div>\n",
       "<style scoped>\n",
       "    .dataframe tbody tr th:only-of-type {\n",
       "        vertical-align: middle;\n",
       "    }\n",
       "\n",
       "    .dataframe tbody tr th {\n",
       "        vertical-align: top;\n",
       "    }\n",
       "\n",
       "    .dataframe thead th {\n",
       "        text-align: right;\n",
       "    }\n",
       "</style>\n",
       "<table border=\"1\" class=\"dataframe\">\n",
       "  <thead>\n",
       "    <tr style=\"text-align: right;\">\n",
       "      <th></th>\n",
       "      <th>fid</th>\n",
       "      <th>fid_1</th>\n",
       "      <th>sprarea</th>\n",
       "      <th>geocodigo</th>\n",
       "      <th>nome1</th>\n",
       "      <th>uf</th>\n",
       "      <th>id_uf</th>\n",
       "      <th>regiao</th>\n",
       "      <th>mesoregiao</th>\n",
       "      <th>microregia</th>\n",
       "      <th>latitude</th>\n",
       "      <th>longitude</th>\n",
       "      <th>sede</th>\n",
       "      <th>ogr_geometry</th>\n",
       "    </tr>\n",
       "    <tr>\n",
       "      <th>npartitions=1</th>\n",
       "      <th></th>\n",
       "      <th></th>\n",
       "      <th></th>\n",
       "      <th></th>\n",
       "      <th></th>\n",
       "      <th></th>\n",
       "      <th></th>\n",
       "      <th></th>\n",
       "      <th></th>\n",
       "      <th></th>\n",
       "      <th></th>\n",
       "      <th></th>\n",
       "      <th></th>\n",
       "      <th></th>\n",
       "    </tr>\n",
       "  </thead>\n",
       "  <tbody>\n",
       "    <tr>\n",
       "      <th></th>\n",
       "      <td>int64</td>\n",
       "      <td>int64</td>\n",
       "      <td>float64</td>\n",
       "      <td>int64</td>\n",
       "      <td>object</td>\n",
       "      <td>object</td>\n",
       "      <td>int64</td>\n",
       "      <td>object</td>\n",
       "      <td>object</td>\n",
       "      <td>object</td>\n",
       "      <td>float64</td>\n",
       "      <td>float64</td>\n",
       "      <td>int64</td>\n",
       "      <td>object</td>\n",
       "    </tr>\n",
       "    <tr>\n",
       "      <th></th>\n",
       "      <td>...</td>\n",
       "      <td>...</td>\n",
       "      <td>...</td>\n",
       "      <td>...</td>\n",
       "      <td>...</td>\n",
       "      <td>...</td>\n",
       "      <td>...</td>\n",
       "      <td>...</td>\n",
       "      <td>...</td>\n",
       "      <td>...</td>\n",
       "      <td>...</td>\n",
       "      <td>...</td>\n",
       "      <td>...</td>\n",
       "      <td>...</td>\n",
       "    </tr>\n",
       "  </tbody>\n",
       "</table>\n",
       "</div>\n",
       "<div>Dask Name: from-delayed, 3 tasks</div>"
      ],
      "text/plain": [
       "Dask DataFrame Structure:\n",
       "                 fid  fid_1  sprarea geocodigo   nome1      uf  id_uf  regiao mesoregiao microregia latitude longitude   sede ogr_geometry\n",
       "npartitions=1                                                                                                                             \n",
       "               int64  int64  float64     int64  object  object  int64  object     object     object  float64   float64  int64       object\n",
       "                 ...    ...      ...       ...     ...     ...    ...     ...        ...        ...      ...       ...    ...          ...\n",
       "Dask Name: from-delayed, 3 tasks"
      ]
     },
     "execution_count": 141,
     "metadata": {},
     "output_type": "execute_result"
    }
   ],
   "source": [
    "## Lendo os dados climatológicos da cidade de SJC em mm/dia Mensal\n",
    "municipios = dd.read_csv('municipios_brasil.csv', delimiter = ';', encoding = 'utf-8')\n",
    "municipios"
   ]
  },
  {
   "cell_type": "code",
   "execution_count": 142,
   "metadata": {
    "scrolled": false
   },
   "outputs": [
    {
     "data": {
      "text/html": [
       "<div>\n",
       "<style scoped>\n",
       "    .dataframe tbody tr th:only-of-type {\n",
       "        vertical-align: middle;\n",
       "    }\n",
       "\n",
       "    .dataframe tbody tr th {\n",
       "        vertical-align: top;\n",
       "    }\n",
       "\n",
       "    .dataframe thead th {\n",
       "        text-align: right;\n",
       "    }\n",
       "</style>\n",
       "<table border=\"1\" class=\"dataframe\">\n",
       "  <thead>\n",
       "    <tr style=\"text-align: right;\">\n",
       "      <th></th>\n",
       "      <th>fid</th>\n",
       "      <th>fid_1</th>\n",
       "      <th>sprarea</th>\n",
       "      <th>geocodigo</th>\n",
       "      <th>nome1</th>\n",
       "      <th>uf</th>\n",
       "      <th>id_uf</th>\n",
       "      <th>regiao</th>\n",
       "      <th>mesoregiao</th>\n",
       "      <th>microregia</th>\n",
       "      <th>latitude</th>\n",
       "      <th>longitude</th>\n",
       "      <th>sede</th>\n",
       "      <th>ogr_geometry</th>\n",
       "    </tr>\n",
       "  </thead>\n",
       "  <tbody>\n",
       "    <tr>\n",
       "      <th>0</th>\n",
       "      <td>0</td>\n",
       "      <td>0</td>\n",
       "      <td>1.729391e+10</td>\n",
       "      <td>1200336</td>\n",
       "      <td>Mâncio Lima</td>\n",
       "      <td>AC</td>\n",
       "      <td>12</td>\n",
       "      <td>Norte</td>\n",
       "      <td>VALE DO JURUA</td>\n",
       "      <td>CRUZEIRO DO SUL</td>\n",
       "      <td>-7.614</td>\n",
       "      <td>-72.896</td>\n",
       "      <td>1</td>\n",
       "      <td>01060000200A1200000100000001030000000100000083...</td>\n",
       "    </tr>\n",
       "    <tr>\n",
       "      <th>1</th>\n",
       "      <td>1</td>\n",
       "      <td>1</td>\n",
       "      <td>2.400108e+11</td>\n",
       "      <td>1300201</td>\n",
       "      <td>Atalaia do Norte</td>\n",
       "      <td>AM</td>\n",
       "      <td>13</td>\n",
       "      <td>Norte</td>\n",
       "      <td>SUDOESTE AMAZONENSE</td>\n",
       "      <td>ALTO SOLIMOES</td>\n",
       "      <td>-4.372</td>\n",
       "      <td>-70.192</td>\n",
       "      <td>1</td>\n",
       "      <td>01060000200A12000001000000010300000001000000D9...</td>\n",
       "    </tr>\n",
       "    <tr>\n",
       "      <th>2</th>\n",
       "      <td>2</td>\n",
       "      <td>2</td>\n",
       "      <td>2.394642e+10</td>\n",
       "      <td>1301654</td>\n",
       "      <td>Guajará</td>\n",
       "      <td>AM</td>\n",
       "      <td>13</td>\n",
       "      <td>Norte</td>\n",
       "      <td>SUDOESTE AMAZONENSE</td>\n",
       "      <td>JURUA</td>\n",
       "      <td>-7.546</td>\n",
       "      <td>-72.584</td>\n",
       "      <td>1</td>\n",
       "      <td>01060000200A1200000100000001030000000100000086...</td>\n",
       "    </tr>\n",
       "    <tr>\n",
       "      <th>3</th>\n",
       "      <td>169</td>\n",
       "      <td>169</td>\n",
       "      <td>7.334175e+10</td>\n",
       "      <td>5102504</td>\n",
       "      <td>Cáceres</td>\n",
       "      <td>MT</td>\n",
       "      <td>51</td>\n",
       "      <td>Centro-Oeste</td>\n",
       "      <td>CENTRO-SUL MATO-GROSSENSE</td>\n",
       "      <td>ALTO PANTANAL</td>\n",
       "      <td>-16.071</td>\n",
       "      <td>-57.679</td>\n",
       "      <td>1</td>\n",
       "      <td>01060000200A120000010000000103000000010000008B...</td>\n",
       "    </tr>\n",
       "    <tr>\n",
       "      <th>4</th>\n",
       "      <td>4679</td>\n",
       "      <td>4679</td>\n",
       "      <td>4.950941e+08</td>\n",
       "      <td>2908200</td>\n",
       "      <td>Conceição da Feira</td>\n",
       "      <td>BA</td>\n",
       "      <td>29</td>\n",
       "      <td>Nordeste</td>\n",
       "      <td>CENTRO NORTE BAIANO</td>\n",
       "      <td>FEIRA DE SANTANA</td>\n",
       "      <td>-12.506</td>\n",
       "      <td>-38.999</td>\n",
       "      <td>1</td>\n",
       "      <td>01060000200A1200000100000001030000000100000017...</td>\n",
       "    </tr>\n",
       "    <tr>\n",
       "      <th>...</th>\n",
       "      <td>...</td>\n",
       "      <td>...</td>\n",
       "      <td>...</td>\n",
       "      <td>...</td>\n",
       "      <td>...</td>\n",
       "      <td>...</td>\n",
       "      <td>...</td>\n",
       "      <td>...</td>\n",
       "      <td>...</td>\n",
       "      <td>...</td>\n",
       "      <td>...</td>\n",
       "      <td>...</td>\n",
       "      <td>...</td>\n",
       "      <td>...</td>\n",
       "    </tr>\n",
       "    <tr>\n",
       "      <th>5551</th>\n",
       "      <td>5559</td>\n",
       "      <td>5559</td>\n",
       "      <td>2.061950e+08</td>\n",
       "      <td>2607604</td>\n",
       "      <td>Ilha de Itamaracá</td>\n",
       "      <td>PE</td>\n",
       "      <td>26</td>\n",
       "      <td>Nordeste</td>\n",
       "      <td>METROPOLITANA DE RECIFE</td>\n",
       "      <td>ITAMARACA</td>\n",
       "      <td>-7.748</td>\n",
       "      <td>-34.826</td>\n",
       "      <td>1</td>\n",
       "      <td>01060000200A1200000100000001030000000100000016...</td>\n",
       "    </tr>\n",
       "    <tr>\n",
       "      <th>5552</th>\n",
       "      <td>5560</td>\n",
       "      <td>5560</td>\n",
       "      <td>9.991505e+07</td>\n",
       "      <td>2503209</td>\n",
       "      <td>Cabedelo</td>\n",
       "      <td>PB</td>\n",
       "      <td>25</td>\n",
       "      <td>Nordeste</td>\n",
       "      <td>MATA PARAIBANA</td>\n",
       "      <td>JOAO PESSOA</td>\n",
       "      <td>-6.981</td>\n",
       "      <td>-34.834</td>\n",
       "      <td>1</td>\n",
       "      <td>01060000200A1200000200000001030000000100000012...</td>\n",
       "    </tr>\n",
       "    <tr>\n",
       "      <th>5553</th>\n",
       "      <td>5561</td>\n",
       "      <td>5561</td>\n",
       "      <td>5.625672e+07</td>\n",
       "      <td>2605459</td>\n",
       "      <td>Fernando de Noronha</td>\n",
       "      <td>PE</td>\n",
       "      <td>26</td>\n",
       "      <td>Nordeste</td>\n",
       "      <td>METROPOLITANA DE RECIFE</td>\n",
       "      <td>FERNANDO DE NORONHA</td>\n",
       "      <td>-3.840</td>\n",
       "      <td>-32.411</td>\n",
       "      <td>1</td>\n",
       "      <td>01060000200A120000010000000103000000010000001F...</td>\n",
       "    </tr>\n",
       "    <tr>\n",
       "      <th>5554</th>\n",
       "      <td>5562</td>\n",
       "      <td>5562</td>\n",
       "      <td>1.951001e+11</td>\n",
       "      <td>5003207</td>\n",
       "      <td>Corumbá</td>\n",
       "      <td>MS</td>\n",
       "      <td>50</td>\n",
       "      <td>Centro-Oeste</td>\n",
       "      <td>PANTANAL SUL MATO-GROSSENSE</td>\n",
       "      <td>BAIXO PANTANAL</td>\n",
       "      <td>-18.507</td>\n",
       "      <td>-54.760</td>\n",
       "      <td>1</td>\n",
       "      <td>01060000200A120000010000000103000000020000007F...</td>\n",
       "    </tr>\n",
       "    <tr>\n",
       "      <th>5555</th>\n",
       "      <td>5563</td>\n",
       "      <td>5563</td>\n",
       "      <td>1.922467e+10</td>\n",
       "      <td>5003306</td>\n",
       "      <td>Coxim</td>\n",
       "      <td>MS</td>\n",
       "      <td>50</td>\n",
       "      <td>Centro-Oeste</td>\n",
       "      <td>CENTRO NORTE DE MATO GROSSO DO SUL</td>\n",
       "      <td>ALTO TAQUARI</td>\n",
       "      <td>-19.009</td>\n",
       "      <td>-57.653</td>\n",
       "      <td>1</td>\n",
       "      <td>01060000200A120000010000000103000000010000005A...</td>\n",
       "    </tr>\n",
       "  </tbody>\n",
       "</table>\n",
       "<p>5556 rows × 14 columns</p>\n",
       "</div>"
      ],
      "text/plain": [
       "       fid  fid_1       sprarea  geocodigo                nome1  uf  id_uf  \\\n",
       "0        0      0  1.729391e+10    1200336          Mâncio Lima  AC     12   \n",
       "1        1      1  2.400108e+11    1300201     Atalaia do Norte  AM     13   \n",
       "2        2      2  2.394642e+10    1301654              Guajará  AM     13   \n",
       "3      169    169  7.334175e+10    5102504              Cáceres  MT     51   \n",
       "4     4679   4679  4.950941e+08    2908200   Conceição da Feira  BA     29   \n",
       "...    ...    ...           ...        ...                  ...  ..    ...   \n",
       "5551  5559   5559  2.061950e+08    2607604    Ilha de Itamaracá  PE     26   \n",
       "5552  5560   5560  9.991505e+07    2503209             Cabedelo  PB     25   \n",
       "5553  5561   5561  5.625672e+07    2605459  Fernando de Noronha  PE     26   \n",
       "5554  5562   5562  1.951001e+11    5003207              Corumbá  MS     50   \n",
       "5555  5563   5563  1.922467e+10    5003306                Coxim  MS     50   \n",
       "\n",
       "            regiao                          mesoregiao           microregia  \\\n",
       "0            Norte                       VALE DO JURUA      CRUZEIRO DO SUL   \n",
       "1            Norte                 SUDOESTE AMAZONENSE        ALTO SOLIMOES   \n",
       "2            Norte                 SUDOESTE AMAZONENSE                JURUA   \n",
       "3     Centro-Oeste           CENTRO-SUL MATO-GROSSENSE        ALTO PANTANAL   \n",
       "4         Nordeste                 CENTRO NORTE BAIANO     FEIRA DE SANTANA   \n",
       "...            ...                                 ...                  ...   \n",
       "5551      Nordeste             METROPOLITANA DE RECIFE            ITAMARACA   \n",
       "5552      Nordeste                      MATA PARAIBANA          JOAO PESSOA   \n",
       "5553      Nordeste             METROPOLITANA DE RECIFE  FERNANDO DE NORONHA   \n",
       "5554  Centro-Oeste         PANTANAL SUL MATO-GROSSENSE       BAIXO PANTANAL   \n",
       "5555  Centro-Oeste  CENTRO NORTE DE MATO GROSSO DO SUL         ALTO TAQUARI   \n",
       "\n",
       "      latitude  longitude  sede  \\\n",
       "0       -7.614    -72.896     1   \n",
       "1       -4.372    -70.192     1   \n",
       "2       -7.546    -72.584     1   \n",
       "3      -16.071    -57.679     1   \n",
       "4      -12.506    -38.999     1   \n",
       "...        ...        ...   ...   \n",
       "5551    -7.748    -34.826     1   \n",
       "5552    -6.981    -34.834     1   \n",
       "5553    -3.840    -32.411     1   \n",
       "5554   -18.507    -54.760     1   \n",
       "5555   -19.009    -57.653     1   \n",
       "\n",
       "                                           ogr_geometry  \n",
       "0     01060000200A1200000100000001030000000100000083...  \n",
       "1     01060000200A12000001000000010300000001000000D9...  \n",
       "2     01060000200A1200000100000001030000000100000086...  \n",
       "3     01060000200A120000010000000103000000010000008B...  \n",
       "4     01060000200A1200000100000001030000000100000017...  \n",
       "...                                                 ...  \n",
       "5551  01060000200A1200000100000001030000000100000016...  \n",
       "5552  01060000200A1200000200000001030000000100000012...  \n",
       "5553  01060000200A120000010000000103000000010000001F...  \n",
       "5554  01060000200A120000010000000103000000020000007F...  \n",
       "5555  01060000200A120000010000000103000000010000005A...  \n",
       "\n",
       "[5556 rows x 14 columns]"
      ]
     },
     "execution_count": 142,
     "metadata": {},
     "output_type": "execute_result"
    }
   ],
   "source": [
    "municipios.compute()"
   ]
  },
  {
   "cell_type": "markdown",
   "metadata": {},
   "source": [
    "Qual a máxima e a média climatológica por mês no Município de SJC?"
   ]
  },
  {
   "cell_type": "code",
   "execution_count": 143,
   "metadata": {
    "scrolled": false
   },
   "outputs": [
    {
     "data": {
      "text/html": [
       "<div>\n",
       "<style scoped>\n",
       "    .dataframe tbody tr th:only-of-type {\n",
       "        vertical-align: middle;\n",
       "    }\n",
       "\n",
       "    .dataframe tbody tr th {\n",
       "        vertical-align: top;\n",
       "    }\n",
       "\n",
       "    .dataframe thead th {\n",
       "        text-align: right;\n",
       "    }\n",
       "</style>\n",
       "<table border=\"1\" class=\"dataframe\">\n",
       "  <thead>\n",
       "    <tr style=\"text-align: right;\">\n",
       "      <th></th>\n",
       "      <th>fid</th>\n",
       "      <th>execution_date</th>\n",
       "      <th>maxima</th>\n",
       "      <th>media</th>\n",
       "      <th>mes</th>\n",
       "      <th>pid_an_municip_monthly</th>\n",
       "    </tr>\n",
       "  </thead>\n",
       "  <tbody>\n",
       "    <tr>\n",
       "      <th>1932</th>\n",
       "      <td>2875</td>\n",
       "      <td>2018-01-31 02:00:00.717-02</td>\n",
       "      <td>8.344231</td>\n",
       "      <td>7.705591</td>\n",
       "      <td>Janeiro</td>\n",
       "      <td>1933</td>\n",
       "    </tr>\n",
       "    <tr>\n",
       "      <th>6708</th>\n",
       "      <td>2875</td>\n",
       "      <td>2018-02-28 03:00:00-03</td>\n",
       "      <td>6.662505</td>\n",
       "      <td>6.302007</td>\n",
       "      <td>Fevereiro</td>\n",
       "      <td>6709</td>\n",
       "    </tr>\n",
       "    <tr>\n",
       "      <th>13159</th>\n",
       "      <td>2875</td>\n",
       "      <td>2018-03-31 03:00:00-03</td>\n",
       "      <td>5.545661</td>\n",
       "      <td>5.011462</td>\n",
       "      <td>Março</td>\n",
       "      <td>13160</td>\n",
       "    </tr>\n",
       "    <tr>\n",
       "      <th>21500</th>\n",
       "      <td>2875</td>\n",
       "      <td>2018-04-30 03:00:00-03</td>\n",
       "      <td>2.536349</td>\n",
       "      <td>2.332118</td>\n",
       "      <td>Abril</td>\n",
       "      <td>21501</td>\n",
       "    </tr>\n",
       "    <tr>\n",
       "      <th>24271</th>\n",
       "      <td>2875</td>\n",
       "      <td>2018-05-31 03:00:00-03</td>\n",
       "      <td>1.974532</td>\n",
       "      <td>1.751176</td>\n",
       "      <td>Maio</td>\n",
       "      <td>24272</td>\n",
       "    </tr>\n",
       "    <tr>\n",
       "      <th>32612</th>\n",
       "      <td>2875</td>\n",
       "      <td>2018-06-30 03:00:00-03</td>\n",
       "      <td>1.712367</td>\n",
       "      <td>1.473090</td>\n",
       "      <td>Junho</td>\n",
       "      <td>32613</td>\n",
       "    </tr>\n",
       "    <tr>\n",
       "      <th>38168</th>\n",
       "      <td>2875</td>\n",
       "      <td>2018-07-31 03:00:00-03</td>\n",
       "      <td>1.800434</td>\n",
       "      <td>1.655272</td>\n",
       "      <td>Julho</td>\n",
       "      <td>38169</td>\n",
       "    </tr>\n",
       "    <tr>\n",
       "      <th>43724</th>\n",
       "      <td>2875</td>\n",
       "      <td>2018-08-31 03:00:00-03</td>\n",
       "      <td>1.091350</td>\n",
       "      <td>0.931052</td>\n",
       "      <td>Agosto</td>\n",
       "      <td>43725</td>\n",
       "    </tr>\n",
       "    <tr>\n",
       "      <th>46495</th>\n",
       "      <td>2875</td>\n",
       "      <td>2018-09-30 03:00:00-03</td>\n",
       "      <td>2.155687</td>\n",
       "      <td>1.865100</td>\n",
       "      <td>Setembro</td>\n",
       "      <td>46496</td>\n",
       "    </tr>\n",
       "    <tr>\n",
       "      <th>54836</th>\n",
       "      <td>2875</td>\n",
       "      <td>2018-10-31 03:00:00-03</td>\n",
       "      <td>4.270790</td>\n",
       "      <td>3.656610</td>\n",
       "      <td>Outubro</td>\n",
       "      <td>54837</td>\n",
       "    </tr>\n",
       "    <tr>\n",
       "      <th>60392</th>\n",
       "      <td>2875</td>\n",
       "      <td>2018-11-30 02:00:00-02</td>\n",
       "      <td>5.992313</td>\n",
       "      <td>5.270545</td>\n",
       "      <td>Novembro</td>\n",
       "      <td>60393</td>\n",
       "    </tr>\n",
       "    <tr>\n",
       "      <th>62268</th>\n",
       "      <td>2875</td>\n",
       "      <td>2018-12-31 02:00:00-02</td>\n",
       "      <td>7.024462</td>\n",
       "      <td>5.972409</td>\n",
       "      <td>Dezembro</td>\n",
       "      <td>62269</td>\n",
       "    </tr>\n",
       "  </tbody>\n",
       "</table>\n",
       "</div>"
      ],
      "text/plain": [
       "        fid              execution_date    maxima     media        mes  \\\n",
       "1932   2875  2018-01-31 02:00:00.717-02  8.344231  7.705591    Janeiro   \n",
       "6708   2875      2018-02-28 03:00:00-03  6.662505  6.302007  Fevereiro   \n",
       "13159  2875      2018-03-31 03:00:00-03  5.545661  5.011462      Março   \n",
       "21500  2875      2018-04-30 03:00:00-03  2.536349  2.332118      Abril   \n",
       "24271  2875      2018-05-31 03:00:00-03  1.974532  1.751176       Maio   \n",
       "32612  2875      2018-06-30 03:00:00-03  1.712367  1.473090      Junho   \n",
       "38168  2875      2018-07-31 03:00:00-03  1.800434  1.655272      Julho   \n",
       "43724  2875      2018-08-31 03:00:00-03  1.091350  0.931052     Agosto   \n",
       "46495  2875      2018-09-30 03:00:00-03  2.155687  1.865100   Setembro   \n",
       "54836  2875      2018-10-31 03:00:00-03  4.270790  3.656610    Outubro   \n",
       "60392  2875      2018-11-30 02:00:00-02  5.992313  5.270545   Novembro   \n",
       "62268  2875      2018-12-31 02:00:00-02  7.024462  5.972409   Dezembro   \n",
       "\n",
       "       pid_an_municip_monthly  \n",
       "1932                     1933  \n",
       "6708                     6709  \n",
       "13159                   13160  \n",
       "21500                   21501  \n",
       "24271                   24272  \n",
       "32612                   32613  \n",
       "38168                   38169  \n",
       "43724                   43725  \n",
       "46495                   46496  \n",
       "54836                   54837  \n",
       "60392                   60393  \n",
       "62268                   62269  "
      ]
     },
     "execution_count": 143,
     "metadata": {},
     "output_type": "execute_result"
    }
   ],
   "source": [
    "fid = int(municipios[municipios.nome1 == 'São José dos Campos']['fid'].compute())\n",
    "sjc = clim[ clim.fid == fid ]\n",
    "sjc.compute()"
   ]
  },
  {
   "cell_type": "markdown",
   "metadata": {},
   "source": [
    "Qual a máxima e a média climatológica no mês de Janeiro no Município de SJC?"
   ]
  },
  {
   "cell_type": "code",
   "execution_count": 144,
   "metadata": {},
   "outputs": [
    {
     "data": {
      "text/html": [
       "<div>\n",
       "<style scoped>\n",
       "    .dataframe tbody tr th:only-of-type {\n",
       "        vertical-align: middle;\n",
       "    }\n",
       "\n",
       "    .dataframe tbody tr th {\n",
       "        vertical-align: top;\n",
       "    }\n",
       "\n",
       "    .dataframe thead th {\n",
       "        text-align: right;\n",
       "    }\n",
       "</style>\n",
       "<table border=\"1\" class=\"dataframe\">\n",
       "  <thead>\n",
       "    <tr style=\"text-align: right;\">\n",
       "      <th></th>\n",
       "      <th>fid</th>\n",
       "      <th>execution_date</th>\n",
       "      <th>maxima</th>\n",
       "      <th>media</th>\n",
       "      <th>mes</th>\n",
       "      <th>pid_an_municip_monthly</th>\n",
       "    </tr>\n",
       "  </thead>\n",
       "  <tbody>\n",
       "    <tr>\n",
       "      <th>1932</th>\n",
       "      <td>2875</td>\n",
       "      <td>2018-01-31 02:00:00.717-02</td>\n",
       "      <td>8.344231</td>\n",
       "      <td>7.705591</td>\n",
       "      <td>Janeiro</td>\n",
       "      <td>1933</td>\n",
       "    </tr>\n",
       "  </tbody>\n",
       "</table>\n",
       "</div>"
      ],
      "text/plain": [
       "       fid              execution_date    maxima     media      mes  \\\n",
       "1932  2875  2018-01-31 02:00:00.717-02  8.344231  7.705591  Janeiro   \n",
       "\n",
       "      pid_an_municip_monthly  \n",
       "1932                    1933  "
      ]
     },
     "execution_count": 144,
     "metadata": {},
     "output_type": "execute_result"
    }
   ],
   "source": [
    "sjc[sjc.mes == 'Janeiro'].compute()"
   ]
  },
  {
   "cell_type": "code",
   "execution_count": 146,
   "metadata": {},
   "outputs": [
    {
     "ename": "AttributeError",
     "evalue": "'DataFrame' object has no attribute 'plot'",
     "output_type": "error",
     "traceback": [
      "\u001b[0;31m---------------------------------------------------------------------------\u001b[0m",
      "\u001b[0;31mAttributeError\u001b[0m                            Traceback (most recent call last)",
      "\u001b[0;32m<ipython-input-146-265742a981e7>\u001b[0m in \u001b[0;36m<module>\u001b[0;34m\u001b[0m\n\u001b[1;32m      1\u001b[0m \u001b[0mget_ipython\u001b[0m\u001b[0;34m(\u001b[0m\u001b[0;34m)\u001b[0m\u001b[0;34m.\u001b[0m\u001b[0mrun_line_magic\u001b[0m\u001b[0;34m(\u001b[0m\u001b[0;34m'matplotlib'\u001b[0m\u001b[0;34m,\u001b[0m \u001b[0;34m'inline'\u001b[0m\u001b[0;34m)\u001b[0m\u001b[0;34m\u001b[0m\u001b[0;34m\u001b[0m\u001b[0m\n\u001b[0;32m----> 2\u001b[0;31m \u001b[0msjc\u001b[0m\u001b[0;34m.\u001b[0m\u001b[0mplot\u001b[0m\u001b[0;34m.\u001b[0m\u001b[0mhist\u001b[0m\u001b[0;34m(\u001b[0m\u001b[0mbins\u001b[0m \u001b[0;34m=\u001b[0m \u001b[0;36m100\u001b[0m\u001b[0;34m)\u001b[0m\u001b[0;34m\u001b[0m\u001b[0;34m\u001b[0m\u001b[0m\n\u001b[0m",
      "\u001b[0;32m~/miniconda3/envs/dask-tutorial/lib/python3.7/site-packages/dask/dataframe/core.py\u001b[0m in \u001b[0;36m__getattr__\u001b[0;34m(self, key)\u001b[0m\n\u001b[1;32m   3306\u001b[0m             \u001b[0;32mreturn\u001b[0m \u001b[0mself\u001b[0m\u001b[0;34m[\u001b[0m\u001b[0mkey\u001b[0m\u001b[0;34m]\u001b[0m\u001b[0;34m\u001b[0m\u001b[0;34m\u001b[0m\u001b[0m\n\u001b[1;32m   3307\u001b[0m         \u001b[0;32melse\u001b[0m\u001b[0;34m:\u001b[0m\u001b[0;34m\u001b[0m\u001b[0;34m\u001b[0m\u001b[0m\n\u001b[0;32m-> 3308\u001b[0;31m             \u001b[0;32mraise\u001b[0m \u001b[0mAttributeError\u001b[0m\u001b[0;34m(\u001b[0m\u001b[0;34m\"'DataFrame' object has no attribute %r\"\u001b[0m \u001b[0;34m%\u001b[0m \u001b[0mkey\u001b[0m\u001b[0;34m)\u001b[0m\u001b[0;34m\u001b[0m\u001b[0;34m\u001b[0m\u001b[0m\n\u001b[0m\u001b[1;32m   3309\u001b[0m \u001b[0;34m\u001b[0m\u001b[0m\n\u001b[1;32m   3310\u001b[0m     \u001b[0;32mdef\u001b[0m \u001b[0m__dir__\u001b[0m\u001b[0;34m(\u001b[0m\u001b[0mself\u001b[0m\u001b[0;34m)\u001b[0m\u001b[0;34m:\u001b[0m\u001b[0;34m\u001b[0m\u001b[0;34m\u001b[0m\u001b[0m\n",
      "\u001b[0;31mAttributeError\u001b[0m: 'DataFrame' object has no attribute 'plot'"
     ]
    }
   ],
   "source": [
    "%matplotlib inline\n",
    "sjc.plot.hist(bins = 100)"
   ]
  },
  {
   "cell_type": "code",
   "execution_count": 124,
   "metadata": {},
   "outputs": [],
   "source": [
    "client.close()"
   ]
  }
 ],
 "metadata": {
  "kernelspec": {
   "display_name": "Python 3",
   "language": "python",
   "name": "python3"
  },
  "language_info": {
   "codemirror_mode": {
    "name": "ipython",
    "version": 3
   },
   "file_extension": ".py",
   "mimetype": "text/x-python",
   "name": "python",
   "nbconvert_exporter": "python",
   "pygments_lexer": "ipython3",
   "version": "3.7.6"
  }
 },
 "nbformat": 4,
 "nbformat_minor": 4
}
