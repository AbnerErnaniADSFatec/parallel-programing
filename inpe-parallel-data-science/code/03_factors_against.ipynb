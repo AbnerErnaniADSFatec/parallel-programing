{
 "cells": [
  {
   "cell_type": "markdown",
   "metadata": {},
   "source": [
    "## Factors against Parallelism\n",
    "\n",
    "* Startup costs associated with initiating processes\n",
    "  * May often overwhelm actual processing time (rendering ||ism useless)\n",
    "  * Involve thread/process creation, data loading\n",
    "* Interference: slowdown resulting from multiple processors accessing shared resources\n",
    "  * Resources: memory, I/O, system bus, sub-processors\n",
    "  * Data movement: redistribution of updates\n",
    "  * Software synchronization: locks, latches, mutex, barriers\n",
    "  * Hardware synchronization: cache faults, interrupts\n",
    "* Skew: when breaking a single task into many smaller tasks, not all tasks may be the same size\n",
    "  * Not all tasks finish at the same time\n",
    "  \n",
    "### Understanding Factors by Analogy\n"
   ]
  },
  {
   "cell_type": "markdown",
   "metadata": {},
   "source": [
    "#### Startup\n",
    "\n",
    "* Szkieletor in Krakow Poland\n",
    "  * Too expensive to complete or demolish\n",
    "* Why is this like a parallel computer?\n",
    "    * It is a parallel living environment\n",
    "    * The parallel living throughput is 0 because of startup\n",
    "    \n",
    "<img src=\"./images/sz.png\" width=\"300\" title=\"http://en.wikipedia.org/wiki/File:Szkieletor2.jpg\" />"
   ]
  },
  {
   "cell_type": "markdown",
   "metadata": {},
   "source": [
    "#### Interference: \n",
    "\n",
    "* Congested intersections\n",
    "  * mulitple vehicles compete for same resource (lanes in roundabout)\n",
    "  * others await resources\n",
    "* This is a parallel driving environment\n",
    "  * unused capacity (16 outbound lanes) because resource competition (the roundabout) prevents its use\n",
    "  * this system exhibits a _throughput collapse_ in which more usage reduces flow\n",
    "  \n",
    "<img src=\"./images/traffic.png\" width=\"512\" title=\"http://crowdcentric.net/2011/05/can-you-help-us-solve-the-worlds-traffic-congestion/\" />\n"
   ]
  },
  {
   "cell_type": "markdown",
   "metadata": {},
   "source": [
    "#### Skew: \n",
    "\n",
    "* Completion of parts for assembly\n",
    "  * throughput: output planes stalled awaiting other parts\n",
    "* The parallelism is implicit in the parallel construction of all parts\n",
    "  * the entire system is stalled (seen) awaiting a nose section.\n",
    "\n",
    "<img src=\"./images/plane.png\" width=\"512\" title=\"http://www.ainonline.com/?q=aviation-news/dubai-air-show/2011-11-12/\" />\n"
   ]
  },
  {
   "cell_type": "markdown",
   "metadata": {},
   "source": [
    "### Factors against Parallelism in our Examples\n",
    "\n",
    "* Interference: in game of life, ghost cells need to be updated every iteration.\n",
    "  * Updates are done in parallel, but it's not useful work.\n",
    "  * Why not useful? Because a serial program doesn't need to do it.\n",
    "* Startup: I/O to read data in turbulence examples\n",
    "  * I/O requests may be sent in parallel, but are performed serially.\n",
    "  * On a computer with 32 cores, there are 2 memory busses, and one I/O system.\n",
    "* Skew: no good example yet.  \n",
    "  * We'll get one in dataframes.\n",
    "  \n",
    "### Factors Conclusions\n",
    "\n",
    "* Factors against parallelism are the most important design consideration.\n",
    "  * This is the non-parallel part in Amdahl’s law\n",
    "* Typical experience\n",
    "  * Design a parallel code\n",
    "  * Test on n=2 or 4 nodes (works great)\n",
    "  * Deploy on >16 nodes (doesn't work great)\n",
    "* Measure factors against parallelism\n",
    "  * Redesign/reimplement\n"
   ]
  },
  {
   "cell_type": "markdown",
   "metadata": {},
   "source": [
    "## Advanced Topic (maybe skip)\n",
    "\n",
    "This is the most important optimization in parallel computing.  But, dask mostly does it for you with asynchronous execution of the task graph.\n",
    "\n",
    "### Overlapping Computation and I/O\n",
    "\n",
    "(I/O or messaging) and computation that occur in parallel are overlapped\n",
    "\n",
    "<img src=\"./images/overlap.png\" width=\"512\" title=\"Unknown source\" />\n",
    "\n",
    "* _Concept_: When performing a slow operation\n",
    "  * do the slow operation asynchronously\n",
    "  * do useful work with processor while waiting\n",
    "* Overlap is one of the simplest and most important forms of asynchronous execution\n",
    "  * identify independent tasks and do in parallel\n",
    "  * reorder I/O to initiate as early as possible and wait as late as possible\n",
    "  * while computing at the same time\n",
    "  \n",
    "I've built a toy example to demonstrate."
   ]
  },
  {
   "cell_type": "code",
   "execution_count": null,
   "metadata": {},
   "outputs": [],
   "source": [
    "# synchronous I/O and then compute\n",
    "def factorial(number):  \n",
    "    f = 1\n",
    "    for i in range(2, number+1):\n",
    "        f *= i\n",
    "    return f\n",
    "\n",
    "def io_from_devnull(number):\n",
    "    with open(\"/dev/null\", \"rb\") as fh:\n",
    "        for i in range(number):\n",
    "            fh.read(1)\n",
    "    return number"
   ]
  },
  {
   "cell_type": "code",
   "execution_count": null,
   "metadata": {},
   "outputs": [],
   "source": [
    "%timeit -n 20 factorial(10000)\n",
    "%timeit -n 20 io_from_devnull(30000)"
   ]
  },
  {
   "cell_type": "code",
   "execution_count": null,
   "metadata": {},
   "outputs": [],
   "source": [
    "%%timeit -n 20 \n",
    "\n",
    "factorial(10000)\n",
    "io_from_devnull(30000)"
   ]
  },
  {
   "cell_type": "code",
   "execution_count": null,
   "metadata": {},
   "outputs": [],
   "source": [
    "%%timeit -n 20\n",
    "\n",
    "from multiprocessing import Process\n",
    "p1 = Process(target=factorial, args=(10000,))\n",
    "p2 = Process(target=io_from_devnull, args=(30000,))\n",
    "p1.start()\n",
    "p2.start() \n",
    "p1.join()\n",
    "p2.join()"
   ]
  },
  {
   "cell_type": "markdown",
   "metadata": {},
   "source": []
  }
 ],
 "metadata": {
  "kernelspec": {
   "display_name": "Python 3",
   "language": "python",
   "name": "python3"
  },
  "language_info": {
   "codemirror_mode": {
    "name": "ipython",
    "version": 3
   },
   "file_extension": ".py",
   "mimetype": "text/x-python",
   "name": "python",
   "nbconvert_exporter": "python",
   "pygments_lexer": "ipython3",
   "version": "3.7.3"
  }
 },
 "nbformat": 4,
 "nbformat_minor": 4
}
