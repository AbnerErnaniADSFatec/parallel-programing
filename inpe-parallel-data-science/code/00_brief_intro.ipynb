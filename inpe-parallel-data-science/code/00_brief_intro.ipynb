{
 "cells": [
  {
   "cell_type": "markdown",
   "metadata": {},
   "source": [
    "## Very Brief Intro to Parallelism\n",
    "\n",
    "Why do we want to run code in parallel.  The high-performance computing answer has always been:\n",
    "  * __strong scaling__: solve problems of the same size faster\n",
    "  * __weak scaling__: solve bigger problem \n",
    "  \n",
    "In data science, there is another answer. Operate on problems that are to big to fit in memory.\n",
    "  * break problems into smaller independent parts that can be solved seperately on one node.\n",
    "  * spread problems across multiple nodes of a cluster to increase the total memory.\n",
    "  \n",
    "The opposite of parallel is __serial__, meaning that a program performs one step at a time using a single core.\n",
    "  * serial wastes power: the other cores are idle\n",
    "  * serial is slower\n",
    "  \n",
    "### And some jargon or lingo\n",
    "\n",
    "There are terms that I cannot avoid saying when teaching parallelism. So, let's define them up front.\n",
    "  * __core__ and __multicore__: modern processors (after 2005) have multiple independent processing units (cores) that execute independent tasks at the same time (in parallel).\n",
    "  * __shared memory__: the cores of a processor can see (read and write) each others memory\n",
    "  * __cluster__: a group of computers that are cooperating to solve a problem\n",
    "  * __distributed memory__: the computers in a cluster cannot see (read and write) each others memory.\n",
    "\n",
    "### Why do I want to write parallel programs?\n",
    "  * to solve problems faster (strong scaling)\n",
    "  * to solve bigger problems (weak scaling and memory)\n",
    " \n",
    "### Why don't I want to write parallel programs? \n",
    "  * the tools are more difficult to use: expect 10x programming effort\n",
    "  * for many problem performance does not improve\n",
    " \n",
    "This mini-course will help to decide when to write parallel code and how to write it."
   ]
  },
  {
   "cell_type": "code",
   "execution_count": null,
   "metadata": {},
   "outputs": [],
   "source": []
  }
 ],
 "metadata": {
  "kernelspec": {
   "display_name": "Python 3",
   "language": "python",
   "name": "python3"
  },
  "language_info": {
   "codemirror_mode": {
    "name": "ipython",
    "version": 3
   },
   "file_extension": ".py",
   "mimetype": "text/x-python",
   "name": "python",
   "nbconvert_exporter": "python",
   "pygments_lexer": "ipython3",
   "version": "3.7.6"
  }
 },
 "nbformat": 4,
 "nbformat_minor": 4
}
