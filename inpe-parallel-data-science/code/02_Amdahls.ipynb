{
 "cells": [
  {
   "cell_type": "markdown",
   "metadata": {},
   "source": [
    "## Amdahl's and Strong Scaling  \n",
    "\n",
    "Amdahl's law is the fundamental principle behind _speedup_ in parallel computing.  \n",
    "Speedup is the process of solving a problem of the _fixed size_ faster with parallel resources.  \n",
    "\n",
    "  * $T(1)$ = time to execute task on a single resource\n",
    "  * $T(n)$ = time to execute task on n resources\n",
    "  * Speedup = $T(1)/T(n)$\n",
    "\n",
    "Examples include:\n",
    "\n",
    "  * parallel data analysis for high-frequency trading\n",
    "  * key cracking in cryptosystems\n",
    "  * training a deep-neural network on a corpus of examples\n",
    "  \n",
    "In all, the data remains the same size and the goal is to complete the computation faster.\n",
    " \n",
    "_Activity_: write down an example problem that would benefit from speedup.\n",
    "\n",
    "### Concepts in this unit\n",
    "  * Amdahl's law\n",
    "  * strong scaling\n",
    "  * speedup\n",
    "  * speedup estimation\n",
    "  * parallel efficiency\n",
    "  \n",
    "### Outcomes\n",
    "The ability to apply Amdahl's in both directions:\n",
    "  * to estimate scalability parameters based on a black box implementation of a parallel program\n",
    "  * to estimate how a given problem will scale based on an instrumentation of a serial program"
   ]
  },
  {
   "cell_type": "markdown",
   "metadata": {},
   "source": [
    "## Amdahl's Law \n",
    "\n",
    "Improving a portion $p$ of a computation by factor $s$ results in an overall speedup of\n",
    "\n",
    "$$S_{\\mbox{latency}}(s) = \\frac{1}{1-p+\\frac{p}{s}}$$\n",
    "\n",
    "* _p_ is the proportion of execution time that benefits from improved resources, i.e. the parallel part\n",
    "* _(1-p)_ is the portion that does not benefit; i.e. the serial part\n",
    "* _s_ is the speedup of the optimized part\n",
    "* _S<sub>latency</sub>(s)_ theoretical speedup of the whole task\n",
    "\n",
    "Paraphrased: speedup limited to fraction improved\n",
    "\n",
    "<img src=\"images/al2.png\" width=\"512\" title=\"Amdahl's Law Graph (from Greg Ganger)\" />\n",
    "\n",
    "### Visualizing Amdahl's Law\n",
    "\n",
    "Let's look at the Amdahl curve for a given parallel fraction (.95).\n"
   ]
  },
  {
   "cell_type": "code",
   "execution_count": null,
   "metadata": {},
   "outputs": [],
   "source": [
    "library(ggplot2)\n",
    "library(tidyverse)\n",
    "library(repr)\n",
    "options(repr.plot.width=6, repr.plot.height=5)\n",
    "\n",
    "# Let's assume we have a 4 socket x 16 core machine.  So up to 64 cores.\n",
    "resources = seq(1:1:64)\n",
    "p = .95\n",
    "        \n",
    "amdahl <- data.frame(cores, 1/((1-p)+p/cores))\n",
    "colnames(amdahl) <- c(\"resources\",\"speedup\")\n",
    "\n",
    "aplot <- ggplot(amdahl, aes(x=resources, y=speedup, color=\"Speedup\")) + geom_point() +\n",
    "            geom_line(data=amdahl, aes(x=resources,y=resources, color=\"Ideal\")) +\n",
    "            scale_color_manual(values = c(\"Speedup\" = 'black','Ideal' = 'blue'))\n",
    "\n",
    "print(aplot)"
   ]
  },
  {
   "cell_type": "markdown",
   "metadata": {},
   "source": [
    "#### Properties of a Speedup Plot\n",
    "\n",
    "* x-axis should have resources\n",
    "* y-axis should be speedup ($T(1)/T(n)$)\n",
    "* axes should be linear-linear or log-log (log-log more common)\n",
    "\n",
    "#### Linear (Ideal) Speedup\n",
    "\n",
    "According to Amdahl's law, the best speedup is achieved when $p=1$ and $S=s$.\n",
    "  * entire computation optimized\n",
    "  * doubling resources doubles speed\n",
    " \n",
    "This is the efficiency limit and is often plotted in speedup charts to see the loss of parallelism."
   ]
  },
  {
   "cell_type": "markdown",
   "metadata": {},
   "source": [
    "### Scaling\n",
    "\n",
    "Let's now look at how performance scales as function of the parallel fraction."
   ]
  },
  {
   "cell_type": "code",
   "execution_count": null,
   "metadata": {},
   "outputs": [],
   "source": [
    "resources = seq(1:1:64)\n",
    "\n",
    "# examine a range of parallel fractions\n",
    "p = factor(c(0,.5,.9,.95,.99,.999))\n",
    "\n",
    "# build a data frame \n",
    "df <- data.frame(crossing(resources,p))\n",
    "df$pnumeric <- as.numeric(levels(df$p))[df$p]\n",
    "\n",
    "# with speedup\n",
    "df$speedup <- 1/((1-df$pnumeric)+df$pnumeric/df$resources)\n",
    "\n",
    "plt <- ggplot(df, aes(x=resources, y=speedup))+geom_point(aes(color=p)) +\n",
    "            geom_line(data=df, aes(x=resources,y=resources, color=\"Ideal\")) +\n",
    "            coord_fixed()\n",
    "print(plt)"
   ]
  },
  {
   "cell_type": "markdown",
   "metadata": {},
   "source": [
    "### Amdahl's law defeats parallel performance\n",
    "\n",
    "The graph indicates that even a small amount of inefficiency reduces scaleup at a modest amount of parallelism.\n",
    "Let's look at this the other way around.\n",
    "\n",
    "* Suppose you want to achieve a speedup of 80 with 100 processors, what fraction of the original computation can be sequential?"
   ]
  },
  {
   "cell_type": "code",
   "execution_count": null,
   "metadata": {},
   "outputs": [],
   "source": [
    "# 80 = 1 / ((1-p)+p/100)\n",
    "p = (100-100/80)/99\n",
    "p"
   ]
  },
  {
   "cell_type": "markdown",
   "metadata": {},
   "source": [
    "So, about $1/4$ of one percent. Not much!  This is the downfall of parallelism.\n",
    "\n",
    "#### So what is serial?\n",
    "\n",
    "We say 'serial' as a simple abstraction for the unoptimized portion.  Its an abstraction to reason about parallelism.\n",
    "* Sometimes literal:\n",
    "  * Code running in a single thread before the parallel part starts\n",
    "  * File I/O before launching a program\n",
    "* Sometimes metaphorical:\n",
    "  * When one/few processes are running while others are idle \n",
    "  * When parallelism introduces additional computation\n",
    "\n",
    "The unoptimized fraction of the code occurs\n",
    "when not all resources are doing useful work at full capacity.\n",
    "\n",
    "### Infering parallelism from Amdahl's Law\n",
    "\n",
    "Simplifying unoptimized into serial and parallel allows us to infer an __Amdahl Number__ from \n",
    "the empirical performance of a code."
   ]
  },
  {
   "cell_type": "code",
   "execution_count": null,
   "metadata": {},
   "outputs": [],
   "source": [
    "# we measure perforamnce as a function of processors. \n",
    "processors = c(2,4,8,16,32)\n",
    "speedup = c(1.85, 3.30, 5.34, 7.4, 9.4)\n",
    "amdahl_number <- processors/(processors-1)*(1-1/speedup)\n",
    "amdahl_number"
   ]
  },
  {
   "cell_type": "markdown",
   "metadata": {},
   "source": [
    "So, we would say that this code seems to have an Amdahl # of about .92.  The can be converted into a maximum possible speedup.\n",
    "\n",
    "* Amdahl's law implies that the unoptimized fraction of the code dictates exactly how much speedup can be obtained on __an infinite number of cores__.\n",
    "\n",
    "$$S_{\\mbox{latency}}(s) = \\frac{1}{1-p+\\frac{p}{\\infty}} = \\frac{1}{1-p}$$"
   ]
  },
  {
   "cell_type": "code",
   "execution_count": null,
   "metadata": {},
   "outputs": [],
   "source": [
    "slim <- 1/(1-0.92)\n",
    "slim"
   ]
  },
  {
   "cell_type": "code",
   "execution_count": null,
   "metadata": {},
   "outputs": [],
   "source": [
    "resources = seq(1:1:128)\n",
    "p = .92\n",
    "        \n",
    "amdahl <- data.frame(resources, slim, 1/((1-p)+p/resources))\n",
    "colnames(amdahl) <- c(\"resources\", \"limit\", \"speedup\")\n",
    "\n",
    "aplot <- ggplot(amdahl, aes(x=resources, y=speedup, color=\"Speedup\")) + geom_point() +\n",
    "            geom_line(data=amdahl, aes(x=resources,y=resources, color=\"Ideal\")) +\n",
    "            geom_line(data=amdahl, aes(x=resources,y=limit, color=\"Limit\")) +\n",
    "            scale_color_manual(values = c(\"Speedup\" = 'black','Ideal' = 'blue', 'Limit'='red')) + ylim(0,20)\n",
    "print(aplot)"
   ]
  },
  {
   "cell_type": "markdown",
   "metadata": {},
   "source": [
    "_Activity_: Given the fraction of serial computation that is optimized and unoptimized for the following code snippet\n",
    "<code>\n",
    "    \n",
    "    // 2% of serial execution spent outside of the loop\n",
    "    ...some computation here...\n",
    "\n",
    "    // 98% of serial execution spent in this loop that is parallelized\n",
    "    #pragma om parallel for \n",
    "    for (int i=0; i<N; i++ )\n",
    "    { \n",
    "        ...other computation here...\n",
    "    }\n",
    "</code> \n",
    "\n",
    "__draw a speedup chart__ that includes\n",
    "  - 3 points on the Amdahl's law curve (give exact values),\n",
    "  - include the line of ideal parallelism that serves as an upper\n",
    "    bound for all speedup, and \n",
    "  - nclude the asymptote for the maximum possible speedup\n",
    "    for this code."
   ]
  },
  {
   "cell_type": "markdown",
   "metadata": {},
   "source": [
    "## Parallel Efficiency\n",
    "\n",
    "Companion concept to speedup.\n",
    "* Efficiency; $E = S(n)/n = T(1)/nT(n)$\n",
    "* Informally: fraction of possible performance realized"
   ]
  },
  {
   "cell_type": "code",
   "execution_count": null,
   "metadata": {},
   "outputs": [],
   "source": [
    "resources = seq(1:1:64)\n",
    "\n",
    "# and a sequence of parallel fractions\n",
    "p = factor(c(0,.5,.9,.95,.99,.999))\n",
    "\n",
    "# build a data frame \n",
    "df <- data.frame(crossing(resources,p))\n",
    "df$pnumeric <- as.numeric(levels(df$p))[df$p]\n",
    "\n",
    "# with speedup\n",
    "df$speedup <- 1/((1-df$pnumeric)+df$pnumeric/df$resources)\n",
    "\n",
    "# and efficiency\n",
    "df$efficiency <- df$speedup/df$resources\n",
    "\n",
    "# plot in linear/linear space\n",
    "plt <- ggplot(df, aes(x=resources, y=efficiency))+geom_point(aes(color=p)) +\n",
    "            geom_line(data=df, aes(x=resources,y=1, color=\"Ideal\"))\n",
    "print(plt)\n",
    "\n",
    "#plot in log/linear space\n",
    "plt <- ggplot(df, aes(x=resources, y=efficiency))+geom_point(aes(color=p)) +\n",
    "            geom_line(data=df, aes(x=resources,y=1, color=\"Ideal\")) +\n",
    "            scale_x_log10()\n",
    "print(plt)"
   ]
  },
  {
   "cell_type": "markdown",
   "metadata": {},
   "source": [
    "No common convention about plotting efficiency\n",
    "* Typically to have E be linear scale and x-axis be either log of linear.\n",
    "* linear/linear has better intuition\n",
    "* log/linear is not monotonic\n",
    "The shapes of efficiency plots are characteristic. Be careful to read axes."
   ]
  },
  {
   "cell_type": "markdown",
   "metadata": {},
   "source": [
    "## Parting Thoughts\n",
    "\n",
    "Performance in practice is much more complex than splitting a code into a \"unoptimized\" and \"optimized\" portion.  But we will see that Amdahl's law is incredibly useful in:\n",
    "  * Back of the envelope calculations about scalability limits (setting a speed limit)\n",
    "  * Deciding what portions of a complex software application is worth optimizing\n",
    "  \n",
    "A typical optimization process for a piece of software\n",
    "  * implement a serial solution\n",
    "  * instrument/profile code to determine how much time is spent in what steps\n",
    "  * optimize only the expensive steps \n",
    "    * it's hard work writing parallel programs (10x harder than serial)\n",
    "    * or choose not to parallelize, because the speedup limit is not good enough\n",
    "    \n",
    "So we use Amdahl's law to:\n",
    "  * choose whether to parallelize a solution\n",
    "  * pick what part of our program to optimize"
   ]
  },
  {
   "cell_type": "code",
   "execution_count": null,
   "metadata": {},
   "outputs": [],
   "source": []
  }
 ],
 "metadata": {
  "kernelspec": {
   "display_name": "R",
   "language": "R",
   "name": "ir"
  },
  "language_info": {
   "codemirror_mode": "r",
   "file_extension": ".r",
   "mimetype": "text/x-r-source",
   "name": "R",
   "pygments_lexer": "r",
   "version": "3.6.1"
  }
 },
 "nbformat": 4,
 "nbformat_minor": 4
}
